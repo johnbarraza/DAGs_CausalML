{
 "cells": [
  {
   "cell_type": "code",
   "execution_count": 1,
   "metadata": {},
   "outputs": [],
   "source": [
    "library(broom)\n",
    "library(dplyr)"
   ]
  },
  {
   "cell_type": "code",
   "execution_count": 2,
   "metadata": {},
   "outputs": [],
   "source": [
    "set.seed(42)\n",
    "n <- 20000"
   ]
  },
  {
   "cell_type": "code",
   "execution_count": 3,
   "metadata": {},
   "outputs": [],
   "source": [
    "eps1 <- rnorm(n)\n",
    "eps2 <- rnorm(n)\n",
    "eps3 <- rnorm(n)\n",
    "epsx <- rnorm(n)\n",
    "epsy <- rnorm(n)"
   ]
  },
  {
   "cell_type": "code",
   "execution_count": 4,
   "metadata": {},
   "outputs": [],
   "source": [
    "Z1 <- eps1\n",
    "Z3 <- eps3\n",
    "Z2 <- Z3 + eps2\n",
    "X <- Z1 + Z2 + epsx\n",
    "Y <- X + Z1 + Z2 + Z3 + epsy"
   ]
  },
  {
   "cell_type": "code",
   "execution_count": 5,
   "metadata": {},
   "outputs": [],
   "source": [
    "data <- data.frame(Y, X, Z1, Z2, Z3)"
   ]
  },
  {
   "cell_type": "code",
   "execution_count": 6,
   "metadata": {},
   "outputs": [],
   "source": [
    "run_ols <- function(vars) {\n",
    "  formula <- as.formula(paste(\"Y ~\", paste(vars, collapse = \" + \")))\n",
    "  model <- lm(formula, data = data)\n",
    "  coefs <- summary(model)$coefficients\n",
    "  beta <- coefs[\"X\", \"Estimate\"]\n",
    "  se <- coefs[\"X\", \"Std. Error\"]\n",
    "  z <- 2.5758  # IC 99%\n",
    "  ci_low <- beta - z * se\n",
    "  ci_high <- beta + z * se\n",
    "  return(list(model = model, beta = beta, se = se, ci_low = ci_low, ci_high = ci_high))\n",
    "}"
   ]
  },
  {
   "cell_type": "code",
   "execution_count": 7,
   "metadata": {},
   "outputs": [],
   "source": [
    "modelos <- list(\n",
    "  c(\"X\"),\n",
    "  c(\"X\", \"Z1\"),\n",
    "  c(\"X\", \"Z2\"),\n",
    "  c(\"X\", \"Z1\", \"Z2\"),\n",
    "  c(\"X\", \"Z1\", \"Z2\", \"Z3\")\n",
    ")"
   ]
  },
  {
   "cell_type": "code",
   "execution_count": 8,
   "metadata": {},
   "outputs": [],
   "source": [
    "resultados <- lapply(modelos, run_ols)"
   ]
  },
  {
   "cell_type": "code",
   "execution_count": 9,
   "metadata": {},
   "outputs": [],
   "source": [
    "tabla <- data.frame(\n",
    "  Regresion = c(\"Y~X\", \"Y~X+Z1\", \"Y~X+Z2\", \"Y~X+Z1+Z2\", \"Y~X+Z1+Z2+Z3\"),\n",
    "  Beta_X = sapply(resultados, function(x) x$beta),\n",
    "  SE = sapply(resultados, function(x) x$se),\n",
    "  CI_low = sapply(resultados, function(x) x$ci_low),\n",
    "  CI_high = sapply(resultados, function(x) x$ci_high)\n",
    ")\n",
    "\n",
    "print(\"RESULTADOS DE LAS REGRESIONES (IC 99%)\")\n",
    "print(tabla)"
   ]
  },
  {
   "cell_type": "code",
   "execution_count": 10,
   "metadata": {},
   "outputs": [],
   "source": [
    "png(\"efecto_X_sobre_Y.png\", width = 900, height = 700)\n",
    "\n",
    "with(tabla, {\n",
    "  plot(Beta_X, ylim = c(min(CI_low), max(CI_high)),\n",
    "       pch = 19, col = \"orange\", xaxt = \"n\",\n",
    "       ylab = \"Estimador de β_X\", xlab = \"\",\n",
    "       main = \"Estimaciones del efecto de X sobre Y con IC 99%\")\n",
    "  arrows(1:length(Beta_X), CI_low, 1:length(Beta_X), CI_high,\n",
    "         angle = 90, code = 3, length = 0.05, col = \"orange\")\n",
    "  abline(h = 1, lty = 2)\n",
    "  axis(1, at = 1:length(Beta_X), labels = tabla$Regresion)\n",
    "})\n",
    "\n",
    "dev.off()"
   ]
  },
  {
   "cell_type": "markdown",
   "metadata": {},
   "source": [
    "El gráfico muestra las estimaciones del efecto de X sobre Y obtenidas bajo distintas especificaciones de control, junto con sus intervalos de confianza al 99%. Se observa que las regresiones Y~X, Y~X+Z1 y Y~X+Z2 producen estimaciones claramente superiores al valor verdadero (β = 1), lo cual indica sesgo por variables omitidas. Esto ocurre porque cada una de estas especificaciones deja sin controlar al menos una variable confusora Z1 o Z2, manteniendo abiertos los caminos de confusión entre X y Y.\n",
    "\n",
    "En cambio, las regresiones Y~X+Z1+Z2 y Y~X+Z1+Z2+Z3 entregan estimaciones cercanas al valor real de 1, mostrando que controlar simultáneamente por Z1 y Z2 bloquea todos los backdoors y permite identificar correctamente el efecto causal de X sobre Y. No obstante, incluir Z3 no mejora la validez de la estimación, ya que esta variable es un ancestro de Z2 y no un confounder directo, lo que solo introduce colinealidad y reduce ligeramente la precisión del estimador."
   ]
  }
 ],
 "metadata": {
  "kernelspec": {
   "display_name": "R",
   "language": "R",
   "name": "ir"
  },
  "language_info": {
   "name": "R",
   "version": "4.3.2"
  }
 },
 "nbformat": 4,
 "nbformat_minor": 2
}
