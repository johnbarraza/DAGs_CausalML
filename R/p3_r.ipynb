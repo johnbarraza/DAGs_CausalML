{
 "cells": [
  {
   "cell_type": "code",
   "execution_count": 62,
   "id": "9993b621",
   "metadata": {
    "vscode": {
     "languageId": "r"
    }
   },
   "outputs": [
    {
     "name": "stderr",
     "output_type": "stream",
     "text": [
      "Warning message:\n",
      "\"package 'dagitty' is in use and will not be installed\"\n",
      "Warning message:\n",
      "\"package 'tidyverse' is in use and will not be installed\"\n"
     ]
    },
    {
     "name": "stderr",
     "output_type": "stream",
     "text": [
      "Warning message:\n",
      "\"package 'broom' is in use and will not be installed\"\n",
      "Warning message:\n",
      "\"package 'knitr' is in use and will not be installed\"\n"
     ]
    }
   ],
   "source": [
    "# Instalar las librerías si no las tienes\n",
    "install.packages(\"dagitty\")\n",
    "install.packages(\"tidyverse\") \n",
    "install.packages(\"broom\")     \n",
    "install.packages(\"knitr\")     \n",
    "\n",
    "# Cargar las librerías en tu sesión\n",
    "library(dagitty)\n",
    "library(tidyverse)\n",
    "library(broom)\n",
    "library(knitr)\n",
    "library(stargazer)\n",
    "library(dplyr)\n",
    "library(ggplot2)\n"
   ]
  },
  {
   "cell_type": "code",
   "execution_count": 45,
   "id": "f76d5e75",
   "metadata": {
    "vscode": {
     "languageId": "r"
    }
   },
   "outputs": [
    {
     "data": {
      "image/png": "[encoded data removed]",
      "text/plain": [
       "plot without title"
      ]
     },
     "metadata": {
      "image/png": {
       "height": 420,
       "width": 420
      }
     },
     "output_type": "display_data"
    }
   ],
   "source": [
    "# DAG original\n",
    "dag_original <- dagitty('dag {\n",
    "  U1 -> X\n",
    "  U1 -> Z\n",
    "  U2 -> Z\n",
    "  U2 -> Y\n",
    "  X -> Y\n",
    "  Z -> Y\n",
    "}')\n",
    "\n",
    "# Coordenadas\n",
    "coordinates(dag_original) <- list(\n",
    "  x = c(U1 = 0, Z = 1, U2 = 2, X = 0, Y = 2),\n",
    "  y = c(U1 = 2, Z = 2, U2 = 2, X = 0, Y = 0)\n",
    ")\n",
    "plot(dag_original)\n"
   ]
  },
  {
   "cell_type": "code",
   "execution_count": null,
   "id": "c8427595",
   "metadata": {
    "vscode": {
     "languageId": "r"
    }
   },
   "outputs": [],
   "source": [
    "# Simulación de datos para el grafo original\n",
    "set.seed(111)\n",
    "n_samples <- 100000\n",
    "true_effect_original <- 1\n",
    "\n",
    "U1 <- rnorm(n_samples)\n",
    "U2 <- rnorm(n_samples)\n",
    "Z  <- 0.6 * U1 + 0.5 * U2 + rnorm(n_samples)\n",
    "X  <- 0.8 * U1 + rnorm(n_samples)\n",
    "Y  <- true_effect_original * X + 0.4 * Z + 0.9 * U2 + rnorm(n_samples)\n",
    "\n",
    "df_original <- tibble(X, Y, Z)\n",
    "\n"
   ]
  },
  {
   "cell_type": "code",
   "execution_count": 55,
   "id": "13ccce92",
   "metadata": {
    "vscode": {
     "languageId": "r"
    }
   },
   "outputs": [
    {
     "name": "stdout",
     "output_type": "stream",
     "text": [
      "\n",
      "Comparación de modelos\n",
      "================================================================================\n",
      "                                        Dependent variable:                     \n",
      "                    ------------------------------------------------------------\n",
      "                                                 Y                              \n",
      "                                Sin Z                          Con Z            \n",
      "                                 (1)                            (2)             \n",
      "--------------------------------------------------------------------------------\n",
      "X                              1.054***                      1.001***           \n",
      "                               (0.003)                        (0.003)           \n",
      "                                                                                \n",
      "Z                                                            0.400***           \n",
      "                                                              (0.003)           \n",
      "                                                                                \n",
      "--------------------------------------------------------------------------------\n",
      "Observations                   100,000                        100,000           \n",
      "R2                              0.566                          0.630            \n",
      "Adjusted R2                     0.566                          0.630            \n",
      "Residual Std. Error       1.082 (df = 99999)            1.000 (df = 99998)      \n",
      "F Statistic         130,583.200*** (df = 1; 99999) 84,954.630*** (df = 2; 99998)\n",
      "================================================================================\n",
      "Note:                                                *p<0.1; **p<0.05; ***p<0.01\n"
     ]
    }
   ],
   "source": [
    "## 1.2 Regresiones con y sin control \n",
    "model_sin_Z <- lm(Y ~ 0 + X, data = df_original)\n",
    "model_con_Z <- lm(Y ~ 0 + X + Z, data = df_original)\n",
    "\n",
    "stargazer(model_sin_Z, model_con_Z, \n",
    "          type = \"text\",\n",
    "          title = \"Comparación de modelos\",\n",
    "          column.labels = c(\"Sin Z\", \"Con Z\"))\n"
   ]
  },
  {
   "cell_type": "code",
   "execution_count": 73,
   "id": "f2e73ad1",
   "metadata": {
    "vscode": {
     "languageId": "r"
    }
   },
   "outputs": [
    {
     "name": "stdout",
     "output_type": "stream",
     "text": [
      "Intervalos de Confianza (99%):\n",
      "\u001b[90m# A tibble: 2 × 4\u001b[39m\n",
      "  Model      estimate conf.low conf.high\n",
      "  \u001b[3m\u001b[90m<chr>\u001b[39m\u001b[23m         \u001b[3m\u001b[90m<dbl>\u001b[39m\u001b[23m    \u001b[3m\u001b[90m<dbl>\u001b[39m\u001b[23m     \u001b[3m\u001b[90m<dbl>\u001b[39m\u001b[23m\n",
      "\u001b[90m1\u001b[39m Y vs. X        1.05    1.05       1.06\n",
      "\u001b[90m2\u001b[39m Y vs. X, Z     1.00    0.994      1.01\n",
      "\n",
      "Gráfico exportado a 'output/part3_coefficients_plot_R.png'\n",
      "\n"
     ]
    },
    {
     "data": {
      "image/png": "[encoded data removed]",
      "text/plain": [
       "plot without title"
      ]
     },
     "metadata": {
      "image/png": {
       "height": 420,
       "width": 420
      }
     },
     "output_type": "display_data"
    }
   ],
   "source": [
    "## 1.3 Gráfico de Coeficientes vs. Efecto Verdadero \n",
    "\n",
    "# Crear un dataframe con los resultados para graficar\n",
    "plot_data_original <- bind_rows(\n",
    "  tidy(model_sin_Z, conf.int = TRUE, conf.level = 0.99) %>% mutate(Model = \"Y vs. X\"),\n",
    "  tidy(model_con_Z, conf.int = TRUE, conf.level = 0.99) %>% mutate(Model = \"Y vs. X, Z\")\n",
    ") %>%\n",
    "  filter(term == \"X\")\n",
    "\n",
    "# Mostrar los datos para verificar los intervalos\n",
    "cat(\"Intervalos de Confianza (99%):\\n\")\n",
    "print(plot_data_original %>% \n",
    "      select(Model, estimate, conf.low, conf.high) %>%\n",
    "      mutate(across(where(is.numeric), ~round(.x, 4))))\n",
    "\n",
    "# gráfico\n",
    "coefficients_plot <- ggplot(plot_data_original, aes(x = Model, y = estimate)) +\n",
    "  geom_col(aes(fill = Model), alpha = 0.7, width = 0.5) +\n",
    "  geom_errorbar(aes(ymin = conf.low, ymax = conf.high), \n",
    "                width = 0.15, linewidth = 1.2, color = \"black\") +\n",
    "  geom_hline(yintercept = true_effect_original, linetype = \"dashed\", \n",
    "             color = \"red\", linewidth = 1) +\n",
    "  geom_point(aes(y = estimate), size = 3, color = \"white\") +  # Punto en la estimación\n",
    "  annotate(\"text\", x = 1.5, y = 1.8, \n",
    "           label = paste(\"Efecto Causal Verdadero =\", true_effect_original), \n",
    "           color = \"red\", size = 4, fontface = \"bold\") +\n",
    "  scale_y_continuous(limits = c(-2, 2), breaks = seq(-1, 1.5, 0.5)) +  # Limitar eje y\n",
    "  scale_fill_manual(values = c(\"Y vs. X\" = \"#3498db\", \"Y vs. X, Z\" = \"#e74c3c\")) +\n",
    "  labs(\n",
    "    title = \"Estimación del Efecto de X en Y\",\n",
    "    y = \"Coeficiente Estimado de X\",\n",
    "    x = \"Modelo de Regresión\"\n",
    "  ) +\n",
    "  theme_minimal(base_size = 12) +\n",
    "  theme(\n",
    "    legend.position = \"none\",\n",
    "    plot.title = element_text(hjust = 0.5, face = \"bold\"),\n",
    "    plot.subtitle = element_text(hjust = 0.5),\n",
    "    panel.grid.minor = element_blank(),\n",
    "    axis.text = element_text(size = 11),\n",
    "    axis.title = element_text(size = 12, face = \"bold\")\n",
    "  )\n",
    "\n",
    "print(coefficients_plot)\n",
    "\n",
    "# Guardar el gráfico en la carpeta 'output'\n",
    "if (!dir.exists(\"output\")) {dir.create(\"output\")}\n",
    "ggsave(\"output/part3_coefficients_plot_R.png\", plot = coefficients_plot, \n",
    "       width = 10, height = 6, dpi = 300)\n",
    "cat(\"\\nGráfico exportado a 'output/part3_coefficients_plot_R.png'\\n\\n\")\n"
   ]
  },
  {
   "cell_type": "code",
   "execution_count": 74,
   "id": "c527233f",
   "metadata": {
    "vscode": {
     "languageId": "r"
    }
   },
   "outputs": [
    {
     "data": {
      "image/png": "[encoded data removed]",
      "text/plain": [
       "plot without title"
      ]
     },
     "metadata": {
      "image/png": {
       "height": 420,
       "width": 420
      }
     },
     "output_type": "display_data"
    }
   ],
   "source": [
    "#  2. DAG Modificado con Controles Observables \n",
    "## 2.1 DAG modificado\n",
    "dag_2 <- dagitty('dag {\n",
    "  U1 -> X\n",
    "  U1 -> Z\n",
    "  U2 -> Z\n",
    "  U2 -> Y\n",
    "  X -> Y\n",
    "  Z -> Y\n",
    "  Z -> X\n",
    "}')\n",
    "\n",
    "# Coordenadas exactas para mantener el mismo layout\n",
    "coordinates(dag_2) <- list(\n",
    "  x = c(U1 = 0, Z = 1, U2 = 2, X = 0, Y = 2),\n",
    "  y = c(U1 = 2, Z = 2, U2 = 2, X = 0, Y = 0)\n",
    ")\n",
    "\n",
    "plot(dag_2)"
   ]
  },
  {
   "cell_type": "code",
   "execution_count": 84,
   "id": "d713cfac",
   "metadata": {
    "vscode": {
     "languageId": "r"
    }
   },
   "outputs": [],
   "source": [
    "# Simulación donde U1 y U2 son observables\n",
    "set.seed(456)\n",
    "true_effect_modificado <- 1\n",
    "\n",
    "U1 <- rnorm(n_samples)\n",
    "U2 <- rnorm(n_samples)\n",
    "Z  <- 1 * U1 + 1 * U2 + rnorm(n_samples)\n",
    "X  <- 1 * U1 + 1 * Z + rnorm(n_samples)\n",
    "Y  <- true_effect_modificado * X + 1 * Z + 1 * U2 + rnorm(n_samples)\n",
    "\n",
    "df_modified <- tibble(X, Y, Z, U1, U2)\n",
    "## 2.2 Correr las 8 Regresiones \n",
    "formulas <- list(\n",
    "  \"Ninguno\"      = Y ~ 0 + X,\n",
    "  \"Z\"         = Y ~ 0 + X + Z,\n",
    "  \"U1\"        = Y ~ 0 + X + U1,\n",
    "  \"U2\"        = Y ~ 0 + X + U2,\n",
    "  \"Z, U1\"     = Y ~ 0 + X + Z + U1,\n",
    "  \"Z, U2\"     = Y ~ 0 + X + Z + U2,\n",
    "  \"U1, U2\"    = Y ~ 0 + X + U1 + U2,\n",
    "  \"Z, U1, U2\" = Y ~ 0 + X + Z + U1 + U2\n",
    ")\n",
    "\n",
    "# Correr todos los modelos y extraer los coeficientes de X\n",
    "results_df <- formulas %>%\n",
    "  map_dfr(~ tidy(lm(.x, data = df_modified)), .id = \"Controls\") %>%\n",
    "  filter(term == \"X\") %>%\n",
    "  select(Controls, beta = estimate, SE = std.error) %>%\n",
    "  column_to_rownames(var = \"Controls\")\n",
    "\n"
   ]
  },
  {
   "cell_type": "code",
   "execution_count": 109,
   "id": "cee66105",
   "metadata": {
    "vscode": {
     "languageId": "r"
    }
   },
   "outputs": [
    {
     "name": "stdout",
     "output_type": "stream",
     "text": [
      "[1] \"--- Tabla de Resultados: Escenario Modificado ---\"\n",
      "[1] \"El efecto causal verdadero es: 1\"\n"
     ]
    },
    {
     "data": {
      "text/plain": [
       "\n",
       "\n",
       "Table: Resultados de Regresiones segun  que control se usa\n",
       "\n",
       "|          |      beta|        SE|\n",
       "|:---------|---------:|---------:|\n",
       "|Ninguno   | 1.7125568| 0.0022150|\n",
       "|Z         | 0.7956490| 0.0030920|\n",
       "|U1        | 2.0018608| 0.0031735|\n",
       "|U2        | 1.4986126| 0.0015718|\n",
       "|Z, U1     | 0.9982973| 0.0038703|\n",
       "|Z, U2     | 0.9994591| 0.0025708|\n",
       "|U1, U2    | 1.4971942| 0.0027353|\n",
       "|Z, U1, U2 | 0.9991108| 0.0031503|"
      ]
     },
     "metadata": {},
     "output_type": "display_data"
    },
    {
     "name": "stdout",
     "output_type": "stream",
     "text": [
      "[1] \" Tabla exportada a 'output/regression_results_R.txt'\"\n"
     ]
    }
   ],
   "source": [
    "## 2.3 Guardar y Presentar la Tabla de Resultados\n",
    "print(\"--- Tabla de Resultados: Escenario Modificado ---\")\n",
    "print(paste(\"El efecto causal verdadero es:\", true_effect_modificado))\n",
    "kable(results_df, caption = \"Resultados de Regresiones segun  que control se usa\", booktabs = TRUE)\n",
    "write.table(results_df, \"output/regression_results_R.txt\", sep = \"\\t\", quote = FALSE)\n",
    "print(\" Tabla exportada a 'output/regression_results_R.txt'\")\n",
    "\n"
   ]
  },
  {
   "cell_type": "code",
   "execution_count": 111,
   "id": "eb289ecf",
   "metadata": {
    "vscode": {
     "languageId": "r"
    }
   },
   "outputs": [
    {
     "name": "stdout",
     "output_type": "stream",
     "text": [
      "[1] \"--- Conjuntos de Controles con Estimaciones Correctas ---\"\n"
     ]
    },
    {
     "data": {
      "text/plain": [
       "\n",
       "\n",
       "|          |      beta|        SE|\n",
       "|:---------|---------:|---------:|\n",
       "|Z, U1     | 0.9982973| 0.0038703|\n",
       "|Z, U2     | 0.9994591| 0.0025708|\n",
       "|Z, U1, U2 | 0.9991108| 0.0031503|"
      ]
     },
     "metadata": {},
     "output_type": "display_data"
    }
   ],
   "source": [
    "## 2.4 Análisis: ¿Qué controles funcionan? \n",
    "tolerance <- 0.02  #valor arbitrario pero que consideramos es aceptable\n",
    "good_controls_df <- results_df %>%\n",
    "  filter(abs(beta - true_effect_modificado) < tolerance)\n",
    "\n",
    "print(\"--- Conjuntos de Controles con Estimaciones Correctas ---\")\n",
    "kable(good_controls_df)\n",
    "\n"
   ]
  },
  {
   "cell_type": "code",
   "execution_count": null,
   "id": "de0933ad",
   "metadata": {
    "vscode": {
     "languageId": "r"
    }
   },
   "outputs": [
    {
     "name": "stdout",
     "output_type": "stream",
     "text": [
      "[1] \"--- Conjunto(s) Mínimo(s) Suficiente(s) ---\"\n",
      "[[1]]\n",
      "[1] \"Z\"  \"U1\"\n",
      "\n",
      "[[2]]\n",
      "[1] \"Z\"  \"U2\"\n",
      "\n"
     ]
    }
   ],
   "source": [
    "## 2.5 Análisis: ¿Cuál es el conjunto mínimo suficiente?\n",
    "# seria el conjunto de control {Z, U2}  o {Z, U1}\n",
    "\n",
    "# pero si queremos que sea con codigo que se actualiza: \n",
    "good_sets_list <- rownames(good_controls_df) %>%\n",
    "  str_split(\", \")\n",
    "\n",
    "minimal_sufficient_sets <- good_sets_list %>%\n",
    "  keep(~ {\n",
    "    current_set <- .x\n",
    "    # Es mínimo si ningún OTRO conjunto bueno es un subconjunto de él\n",
    "    !any(map_lgl(good_sets_list, ~ all(.x %in% current_set) && !identical(.x, current_set)))\n",
    "  })\n",
    "\n",
    "print(\"--- Conjunto(s) Mínimo(s) Suficiente(s) ---\")\n",
    "print(minimal_sufficient_sets)\n",
    "\n",
    "\n"
   ]
  },
  {
   "cell_type": "markdown",
   "id": "7ea93aa7",
   "metadata": {},
   "source": [
    "### Provide intuition on why you can get good estimates controlling for the variables you stablished abov\n",
    "Para obtener una estimación correcta del efecto de X en Y, necesitamos cerrar todos los caminos de puerta trasera \"backdoor path\" que crean una conexión falsa entre ellos.\n",
    "\n",
    "Observando el DAG, un primer impulso sería controlar por Z, ya que participa en varios de estos caminos. Sin embargo, Z es un collider en la ruta que conecta U1 y U2. Controlar por un collider es problemático porque abre este camino que antes estaba cerrado, creando un nuevo backdoor path espurio entre X y Y a través de U1 y U2.\n",
    "\n",
    "La solución es usar el conjunto de controles {Z, U1}. Esta combinación funciona porque realiza dos acciones clave simultáneamente: el control sobre Z cierra los backdoor paths originales, mientras que el control sobre U1 cierra inmediatamente el nuevo camino que fue abierto por el colisionador. De esta manera, se neutralizan todas las conexiones espurias y se aísla el verdadero efecto causal de X sobre Y. Pasa similar  con {Z, U2}"
   ]
  }
 ],
 "metadata": {
  "kernelspec": {
   "display_name": "R",
   "language": "R",
   "name": "ir"
  },
  "language_info": {
   "codemirror_mode": "r",
   "file_extension": ".r",
   "mimetype": "text/x-r-source",
   "name": "R",
   "pygments_lexer": "r",
   "version": "4.3.3"
  }
 },
 "nbformat": 4,
 "nbformat_minor": 5
}
