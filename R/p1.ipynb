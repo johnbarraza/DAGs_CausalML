{
 "cells": [
  {
   "cell_type": "markdown",
   "id": "81ca4097-f0c5-4e91-bd95-6ba427afcc75",
   "metadata": {},
   "source": [
    "explicacion"
   ]
  },
  {
   "cell_type": "markdown",
   "id": "09c9259b-9881-430d-9e03-8cc3458dda6f",
   "metadata": {},
   "source": [
    "**Factor de Confusión (Confounder)**: Es una variable que es una \"causa común\" tanto del tratamiento (X) como del resultado (Y). Crea una asociación falsa o espuria entre ellos. Si no se tiene en cuenta, puedes pensar erróneamente que X causa Y, cuando en realidad ambos son causados por Z."
   ]
  },
  {
   "cell_type": "markdown",
   "id": "e9affb97-ec7e-49b7-962b-027b142178ed",
   "metadata": {},
   "source": [
    "**Colisionador (Collider)**: Es una variable que es afectada por tanto el tratamiento (X) como el resultado (Y). Controlar o condicionar por un colisionador puede crear una asociación falsa entre X e Y, incluso si no existe un vínculo causal real entre ellos. Esto es una fuente importante de sesgo de selección."
   ]
  },
  {
   "cell_type": "markdown",
   "id": "17692c77-4563-4975-9153-b6e5c8ab892e",
   "metadata": {},
   "source": [
    "**Mediador (Mediation)**: Es una variable que se encuentra en la ruta causal entre el tratamiento (X) y el resultado (Y). Explica cómo o por qué X causa Y. El efecto de X sobre Y se transmite a través del mediador M."
   ]
  },
  {
   "cell_type": "markdown",
   "id": "94acf575-5ae2-4dc5-a59f-fa221dd53d0b",
   "metadata": {},
   "source": [
    "ejemplos 1a"
   ]
  },
  {
   "cell_type": "markdown",
   "id": "769f94fd-f2d8-4784-9f9e-491fd7745daa",
   "metadata": {},
   "source": [
    "El nivel de actividad física (Z) es un factor de confusión. Las personas que hacen más ejercicio (Z) tienen más probabilidades de realizar actividades al aire libre, lo que aumenta su exposición al sol y, por lo tanto, sus niveles naturales de vitamina D (lo que puede llevar a tomar menos suplementos, o sesgar la muestra). Al mismo tiempo, el ejercicio físico (Z) reduce directamente el riesgo de enfermedades cardiovasculares (Y)."
   ]
  },
  {
   "cell_type": "markdown",
   "id": "e2b01791-ff4f-44cc-9daa-bf096e4f0cff",
   "metadata": {},
   "source": [
    " Llegar con vida al hospital (S) es un colisionador. Es afectado tanto por el tipo de herida (X) como por la supervivencia final (Y). Las heridas de bala suelen ser más letales inmediatamente; muchos de esos pacientes mueren en el lugar y nunca llegan al hospital (S). Los apuñalamientos pueden ser más lentos, permitiendo que personas más graves lleguen vivas (S) al hospital, donde luego pueden fallecer. Al condicionar solo a los pacientes que están en el hospital (S), se crea un sesgo donde parece que las heridas de bala tienen un mejor pronóstico, cuando en realidad la relación se ve distorsionada por los que no sobrevivieron para ser admitidos."
   ]
  },
  {
   "cell_type": "markdown",
   "id": "9b239166-259d-4a97-bb88-c787d122ddf5",
   "metadata": {},
   "source": [
    "El Ibuprofeno (X) no \"borra\" el dolor mágicamente. Su efecto es mediado por un proceso bioquímico. El Ibuprofeno actúa inhibiendo la enzima ciclooxigenasa, lo que reduce la producción de prostaglandinas (M). Las prostaglandinas son sustancias químicas que promueven la inflamación y sensibilizan los receptores de dolor. Al reducir su producción (M), el Ibuprofeno logra reducir finalmente la sensación de dolor (Y)."
   ]
  },
  {
   "cell_type": "markdown",
   "id": "061cb917-3c48-4ba6-a79e-54c6868c9aa6",
   "metadata": {},
   "source": [
    "Part 1b - Simpson's paradox"
   ]
  },
  {
   "cell_type": "code",
   "execution_count": 13,
   "id": "9905af46-a33d-4bfe-a955-819653733897",
   "metadata": {},
   "outputs": [],
   "source": [
    "\n",
    "set.seed(42)\n",
    "n <- 100  \n",
    "\n",
    "\n",
    "x1 <- runif(n, 0, 10)\n",
    "y1 <- 2 * x1 + 80 + rnorm(n, 0, 3)  \n",
    "\n",
    "x2 <- runif(n, 0, 10)\n",
    "y2 <- 3 * x2 + 20 + rnorm(n, 0, 3) \n",
    "\n",
    "datos <- data.frame(\n",
    "  x = c(x1, x2),\n",
    "  y = c(y1, y2),\n",
    "  grupo = factor(rep(c(\"Grupo 1\", \"Grupo 2\"), each = n))\n",
    ")"
   ]
  },
  {
   "cell_type": "code",
   "execution_count": 22,
   "id": "b59495bb-45c0-46f8-b5dc-aaa2cf8bd40c",
   "metadata": {},
   "outputs": [
    {
     "name": "stdout",
     "output_type": "stream",
     "text": [
      "Pendiente Grupo 1: 2.13 (Positiva)\n",
      "Pendiente Grupo 2: 3 (Positiva)\n",
      "Pendiente Combinada: 2.89 (Negativa!)\n"
     ]
    },
    {
     "data": {
      "image/png": "[encoded data removed]",
      "text/plain": [
       "Plot with title \"Paradoja de Simpson\""
      ]
     },
     "metadata": {},
     "output_type": "display_data"
    }
   ],
   "source": [
    "\n",
    "regresion_grupo1 <- lm(y ~ x, data = subset(datos, grupo == \"Grupo 1\"))\n",
    "regresion_grupo2 <- lm(y ~ x, data = subset(datos, grupo == \"Grupo 2\"))\n",
    "regresion_combinada <- lm(y ~ x, data = datos)\n",
    "\n",
    "coef_g1 <- coef(regresion_grupo1)\n",
    "coef_g2 <- coef(regresion_grupo2)\n",
    "coef_comb <- coef(regresion_combinada)\n",
    "# Imprimir resultados\n",
    "cat(\"Pendiente Grupo 1:\", round(coef_g1[2], 2), \"(Positiva)\\n\")\n",
    "cat(\"Pendiente Grupo 2:\", round(coef_g2[2], 2), \"(Positiva)\\n\")\n",
    "cat(\"Pendiente Combinada:\", round(coef_comb[2], 2), \"(Negativa!)\\n\")\n",
    "\n",
    "par(mar = c(5, 4, 4, 8) + 0.1)\n",
    "\n",
    "plot(datos$x, datos$y, type = \"n\", \n",
    "     xlab = \"Variable Explicativa (X)\", \n",
    "     ylab = \"Variable de Resultado (Y)\",\n",
    "     main = \"Paradoja de Simpson\")\n",
    "\n",
    "points(x1, y1, col = \"blue\", pch = 16, cex = 0.8)\n",
    "points(x2, y2, col = \"red\", pch = 16, cex = 0.8)\n",
    "\n",
    "abline(coef_g1, col = \"blue\", lwd = 2)\n",
    "abline(coef_g2, col = \"red\", lwd = 2)\n",
    "abline(coef_comb, col = \"black\", lwd = 2, lty = 2)\n",
    "\n",
    "legend(\"topright\", \n",
    "       legend = c(\"Grupo 1\", \"Grupo 2\", \"Combinado\"),\n",
    "       col = c(\"blue\", \"red\", \"black\"),\n",
    "       lty = c(1, 1, 2),\n",
    "       lwd = 2,\n",
    "       bty = \"n\",\n",
    "       xpd = TRUE,\n",
    "       inset = c(-0.3, 0))\n",
    "\n",
    "text(2, 95, paste(\"Grupo 1: y =\", round(coef_g1[2], 1), \"x +\", round(coef_g1[1], 1)), \n",
    "     col = \"blue\", pos = 4)\n",
    "text(2, 90, paste(\"Grupo 2: y =\", round(coef_g2[2], 1), \"x +\", round(coef_g2[1], 1)), \n",
    "     col = \"red\", pos = 4)\n",
    "text(2, 85, paste(\"Combinado: y =\", round(coef_comb[2], 1), \"x +\", round(coef_comb[1], 1)), \n",
    "     col = \"black\", pos = 4)"
   ]
  },
  {
   "cell_type": "markdown",
   "id": "42de6ad8-c2f3-4205-adbf-2da03fdc0365",
   "metadata": {},
   "source": [
    "Dentro de cada grupo: Ambas líneas azul y roja tienen pendiente positiva\n",
    "\n",
    "En el Grupo 1, cuando X aumenta, Y también aumenta\n",
    "\n",
    "En el Grupo 2, cuando X aumenta, Y también aumenta (incluso más rápido)\n",
    "\n",
    "Cuando se combinan: La línea negra discontinua tiene pendiente negativa\n",
    "\n",
    "Parece que cuando X aumenta, Y disminuye \n",
    "\n",
    "Entonces:\n",
    "\n",
    "El Grupo 1 tiene valores Y generalmente más altos pero valores X más bajos\n",
    "\n",
    "El Grupo 2 tiene valores Y generalmente más bajos pero valores X más altos\n",
    "\n",
    "La diferencia entre grupos domina la relación dentro de cada grupo"
   ]
  }
 ],
 "metadata": {
  "kernelspec": {
   "display_name": "R",
   "language": "R",
   "name": "ir"
  },
  "language_info": {
   "codemirror_mode": "r",
   "file_extension": ".r",
   "mimetype": "text/x-r-source",
   "name": "R",
   "pygments_lexer": "r",
   "version": "3.6.1"
  }
 },
 "nbformat": 4,
 "nbformat_minor": 5
}
