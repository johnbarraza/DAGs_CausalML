{
 "cells": [
  {
   "cell_type": "code",
   "execution_count": 15,
   "id": "b1fe60fb",
   "metadata": {},
   "outputs": [
    {
     "name": "stdout",
     "output_type": "stream",
     "text": [
      "Requirement already satisfied: causalgraphicalmodels in c:\\users\\johnb\\anaconda3\\envs\\dags_env\\lib\\site-packages (0.0.4)\n",
      "Requirement already satisfied: graphviz in c:\\users\\johnb\\anaconda3\\envs\\dags_env\\lib\\site-packages (from causalgraphicalmodels) (0.21)\n",
      "Requirement already satisfied: networkx in c:\\users\\johnb\\anaconda3\\envs\\dags_env\\lib\\site-packages (from causalgraphicalmodels) (3.2.1)\n",
      "Requirement already satisfied: numpy in c:\\users\\johnb\\anaconda3\\envs\\dags_env\\lib\\site-packages (from causalgraphicalmodels) (2.0.2)\n",
      "Requirement already satisfied: pandas in c:\\users\\johnb\\anaconda3\\envs\\dags_env\\lib\\site-packages (from causalgraphicalmodels) (2.3.2)\n",
      "Requirement already satisfied: python-dateutil>=2.8.2 in c:\\users\\johnb\\anaconda3\\envs\\dags_env\\lib\\site-packages (from pandas->causalgraphicalmodels) (2.9.0.post0)\n",
      "Requirement already satisfied: pytz>=2020.1 in c:\\users\\johnb\\anaconda3\\envs\\dags_env\\lib\\site-packages (from pandas->causalgraphicalmodels) (2025.2)\n",
      "Requirement already satisfied: tzdata>=2022.7 in c:\\users\\johnb\\anaconda3\\envs\\dags_env\\lib\\site-packages (from pandas->causalgraphicalmodels) (2025.2)\n",
      "Requirement already satisfied: six>=1.5 in c:\\users\\johnb\\anaconda3\\envs\\dags_env\\lib\\site-packages (from python-dateutil>=2.8.2->pandas->causalgraphicalmodels) (1.17.0)\n",
      "Note: you may need to restart the kernel to use updated packages.\n"
     ]
    }
   ],
   "source": [
    "pip install causalgraphicalmodels"
   ]
  },
  {
   "cell_type": "code",
   "execution_count": 16,
   "id": "3b4ce33c",
   "metadata": {},
   "outputs": [
    {
     "name": "stdout",
     "output_type": "stream",
     "text": [
      "Requirement already satisfied: statsmodels in c:\\users\\johnb\\anaconda3\\envs\\dags_env\\lib\\site-packages (0.14.5)\n",
      "Requirement already satisfied: numpy<3,>=1.22.3 in c:\\users\\johnb\\anaconda3\\envs\\dags_env\\lib\\site-packages (from statsmodels) (2.0.2)\n",
      "Requirement already satisfied: scipy!=1.9.2,>=1.8 in c:\\users\\johnb\\anaconda3\\envs\\dags_env\\lib\\site-packages (from statsmodels) (1.13.1)\n",
      "Requirement already satisfied: pandas!=2.1.0,>=1.4 in c:\\users\\johnb\\anaconda3\\envs\\dags_env\\lib\\site-packages (from statsmodels) (2.3.2)\n",
      "Requirement already satisfied: patsy>=0.5.6 in c:\\users\\johnb\\anaconda3\\envs\\dags_env\\lib\\site-packages (from statsmodels) (1.0.1)\n",
      "Requirement already satisfied: packaging>=21.3 in c:\\users\\johnb\\anaconda3\\envs\\dags_env\\lib\\site-packages (from statsmodels) (25.0)\n",
      "Requirement already satisfied: python-dateutil>=2.8.2 in c:\\users\\johnb\\anaconda3\\envs\\dags_env\\lib\\site-packages (from pandas!=2.1.0,>=1.4->statsmodels) (2.9.0.post0)\n",
      "Requirement already satisfied: pytz>=2020.1 in c:\\users\\johnb\\anaconda3\\envs\\dags_env\\lib\\site-packages (from pandas!=2.1.0,>=1.4->statsmodels) (2025.2)\n",
      "Requirement already satisfied: tzdata>=2022.7 in c:\\users\\johnb\\anaconda3\\envs\\dags_env\\lib\\site-packages (from pandas!=2.1.0,>=1.4->statsmodels) (2025.2)\n",
      "Requirement already satisfied: six>=1.5 in c:\\users\\johnb\\anaconda3\\envs\\dags_env\\lib\\site-packages (from python-dateutil>=2.8.2->pandas!=2.1.0,>=1.4->statsmodels) (1.17.0)\n",
      "Note: you may need to restart the kernel to use updated packages.\n"
     ]
    }
   ],
   "source": [
    "pip install statsmodels"
   ]
  },
  {
   "cell_type": "code",
   "execution_count": 17,
   "id": "37441d74",
   "metadata": {},
   "outputs": [
    {
     "name": "stdout",
     "output_type": "stream",
     "text": [
      "Requirement already satisfied: networkx[default] in c:\\users\\johnb\\anaconda3\\envs\\dags_env\\lib\\site-packages (3.2.1)\n",
      "Requirement already satisfied: numpy>=1.22 in c:\\users\\johnb\\anaconda3\\envs\\dags_env\\lib\\site-packages (from networkx[default]) (2.0.2)\n",
      "Requirement already satisfied: scipy!=1.11.0,!=1.11.1,>=1.9 in c:\\users\\johnb\\anaconda3\\envs\\dags_env\\lib\\site-packages (from networkx[default]) (1.13.1)\n",
      "Requirement already satisfied: matplotlib>=3.5 in c:\\users\\johnb\\anaconda3\\envs\\dags_env\\lib\\site-packages (from networkx[default]) (3.9.4)\n",
      "Requirement already satisfied: pandas>=1.4 in c:\\users\\johnb\\anaconda3\\envs\\dags_env\\lib\\site-packages (from networkx[default]) (2.3.2)\n",
      "Requirement already satisfied: contourpy>=1.0.1 in c:\\users\\johnb\\anaconda3\\envs\\dags_env\\lib\\site-packages (from matplotlib>=3.5->networkx[default]) (1.3.0)\n",
      "Requirement already satisfied: cycler>=0.10 in c:\\users\\johnb\\anaconda3\\envs\\dags_env\\lib\\site-packages (from matplotlib>=3.5->networkx[default]) (0.12.1)\n",
      "Requirement already satisfied: fonttools>=4.22.0 in c:\\users\\johnb\\anaconda3\\envs\\dags_env\\lib\\site-packages (from matplotlib>=3.5->networkx[default]) (4.60.0)\n",
      "Requirement already satisfied: kiwisolver>=1.3.1 in c:\\users\\johnb\\anaconda3\\envs\\dags_env\\lib\\site-packages (from matplotlib>=3.5->networkx[default]) (1.4.7)\n",
      "Requirement already satisfied: packaging>=20.0 in c:\\users\\johnb\\anaconda3\\envs\\dags_env\\lib\\site-packages (from matplotlib>=3.5->networkx[default]) (25.0)\n",
      "Requirement already satisfied: pillow>=8 in c:\\users\\johnb\\anaconda3\\envs\\dags_env\\lib\\site-packages (from matplotlib>=3.5->networkx[default]) (11.3.0)\n",
      "Requirement already satisfied: pyparsing>=2.3.1 in c:\\users\\johnb\\anaconda3\\envs\\dags_env\\lib\\site-packages (from matplotlib>=3.5->networkx[default]) (3.2.5)\n",
      "Requirement already satisfied: python-dateutil>=2.7 in c:\\users\\johnb\\anaconda3\\envs\\dags_env\\lib\\site-packages (from matplotlib>=3.5->networkx[default]) (2.9.0.post0)\n",
      "Requirement already satisfied: importlib-resources>=3.2.0 in c:\\users\\johnb\\anaconda3\\envs\\dags_env\\lib\\site-packages (from matplotlib>=3.5->networkx[default]) (6.5.2)\n",
      "Requirement already satisfied: zipp>=3.1.0 in c:\\users\\johnb\\anaconda3\\envs\\dags_env\\lib\\site-packages (from importlib-resources>=3.2.0->matplotlib>=3.5->networkx[default]) (3.23.0)\n",
      "Requirement already satisfied: pytz>=2020.1 in c:\\users\\johnb\\anaconda3\\envs\\dags_env\\lib\\site-packages (from pandas>=1.4->networkx[default]) (2025.2)\n",
      "Requirement already satisfied: tzdata>=2022.7 in c:\\users\\johnb\\anaconda3\\envs\\dags_env\\lib\\site-packages (from pandas>=1.4->networkx[default]) (2025.2)\n",
      "Requirement already satisfied: six>=1.5 in c:\\users\\johnb\\anaconda3\\envs\\dags_env\\lib\\site-packages (from python-dateutil>=2.7->matplotlib>=3.5->networkx[default]) (1.17.0)\n",
      "Note: you may need to restart the kernel to use updated packages.\n"
     ]
    }
   ],
   "source": [
    "pip install networkx[default]"
   ]
  },
  {
   "cell_type": "code",
   "execution_count": null,
   "id": "f30b3d6a",
   "metadata": {},
   "outputs": [],
   "source": [
    "pip install pygraphviz"
   ]
  },
  {
   "cell_type": "code",
   "execution_count": 19,
   "id": "9fbe5eb0",
   "metadata": {},
   "outputs": [],
   "source": [
    "import pandas as pd\n",
    "import numpy as np\n",
    "import statsmodels.api as sm\n",
    "from causalgraphicalmodels import CausalGraphicalModel\n",
    "import networkx as nx\n",
    "import matplotlib.pyplot as plt\n",
    "import os"
   ]
  },
  {
   "cell_type": "markdown",
   "id": "35de650e",
   "metadata": {},
   "source": [
    "### Graph and simulate example 4 of Lab7 "
   ]
  },
  {
   "cell_type": "code",
   "execution_count": null,
   "id": "a02c36d8",
   "metadata": {},
   "outputs": [
    {
     "data": {
      "image/svg+xml": [
       "<?xml version=\"1.0\" encoding=\"UTF-8\" standalone=\"no\"?>\n",
       "<!DOCTYPE svg PUBLIC \"-//W3C//DTD SVG 1.1//EN\"\n",
       " \"http://www.w3.org/Graphics/SVG/1.1/DTD/svg11.dtd\">\n",
       "<!-- Generated by graphviz version 2.46.0 (20210118.1747)\n",
       " -->\n",
       "<!-- Pages: 1 -->\n",
       "<svg width=\"175pt\" height=\"188pt\"\n",
       " viewBox=\"0.00 0.00 175.00 188.00\" xmlns=\"http://www.w3.org/2000/svg\" xmlns:xlink=\"http://www.w3.org/1999/xlink\">\n",
       "<g id=\"graph0\" class=\"graph\" transform=\"scale(1 1) rotate(0) translate(4 184)\">\n",
       "<polygon fill=\"white\" stroke=\"transparent\" points=\"-4,4 -4,-184 171,-184 171,4 -4,4\"/>\n",
       "<!-- Z -->\n",
       "<g id=\"node1\" class=\"node\">\n",
       "<title>Z</title>\n",
       "<ellipse fill=\"none\" stroke=\"black\" cx=\"99\" cy=\"-90\" rx=\"27\" ry=\"18\"/>\n",
       "<text text-anchor=\"middle\" x=\"99\" y=\"-86.3\" font-family=\"Times New Roman,serif\" font-size=\"14.00\">Z</text>\n",
       "</g>\n",
       "<!-- Y -->\n",
       "<g id=\"node3\" class=\"node\">\n",
       "<title>Y</title>\n",
       "<ellipse fill=\"none\" stroke=\"black\" cx=\"99\" cy=\"-18\" rx=\"27\" ry=\"18\"/>\n",
       "<text text-anchor=\"middle\" x=\"99\" y=\"-14.3\" font-family=\"Times New Roman,serif\" font-size=\"14.00\">Y</text>\n",
       "</g>\n",
       "<!-- Z&#45;&gt;Y -->\n",
       "<g id=\"edge5\" class=\"edge\">\n",
       "<title>Z&#45;&gt;Y</title>\n",
       "<path fill=\"none\" stroke=\"black\" d=\"M99,-71.7C99,-63.98 99,-54.71 99,-46.11\"/>\n",
       "<polygon fill=\"black\" stroke=\"black\" points=\"102.5,-46.1 99,-36.1 95.5,-46.1 102.5,-46.1\"/>\n",
       "</g>\n",
       "<!-- X -->\n",
       "<g id=\"node2\" class=\"node\">\n",
       "<title>X</title>\n",
       "<ellipse fill=\"none\" stroke=\"black\" cx=\"27\" cy=\"-90\" rx=\"27\" ry=\"18\"/>\n",
       "<text text-anchor=\"middle\" x=\"27\" y=\"-86.3\" font-family=\"Times New Roman,serif\" font-size=\"14.00\">X</text>\n",
       "</g>\n",
       "<!-- X&#45;&gt;Y -->\n",
       "<g id=\"edge6\" class=\"edge\">\n",
       "<title>X&#45;&gt;Y</title>\n",
       "<path fill=\"none\" stroke=\"black\" d=\"M41.57,-74.83C51.75,-64.94 65.52,-51.55 77.03,-40.36\"/>\n",
       "<polygon fill=\"black\" stroke=\"black\" points=\"79.47,-42.87 84.2,-33.38 74.59,-37.85 79.47,-42.87\"/>\n",
       "</g>\n",
       "<!-- U1 -->\n",
       "<g id=\"node4\" class=\"node\">\n",
       "<title>U1</title>\n",
       "<ellipse fill=\"none\" stroke=\"black\" cx=\"41\" cy=\"-162\" rx=\"27\" ry=\"18\"/>\n",
       "<text text-anchor=\"middle\" x=\"41\" y=\"-158.3\" font-family=\"Times New Roman,serif\" font-size=\"14.00\">U1</text>\n",
       "</g>\n",
       "<!-- U1&#45;&gt;Z -->\n",
       "<g id=\"edge1\" class=\"edge\">\n",
       "<title>U1&#45;&gt;Z</title>\n",
       "<path fill=\"none\" stroke=\"black\" d=\"M53.59,-145.81C61.26,-136.55 71.23,-124.52 79.86,-114.09\"/>\n",
       "<polygon fill=\"black\" stroke=\"black\" points=\"82.75,-116.09 86.44,-106.16 77.36,-111.63 82.75,-116.09\"/>\n",
       "</g>\n",
       "<!-- U1&#45;&gt;X -->\n",
       "<g id=\"edge2\" class=\"edge\">\n",
       "<title>U1&#45;&gt;X</title>\n",
       "<path fill=\"none\" stroke=\"black\" d=\"M37.61,-144.05C36.07,-136.35 34.21,-127.03 32.47,-118.36\"/>\n",
       "<polygon fill=\"black\" stroke=\"black\" points=\"35.85,-117.39 30.46,-108.28 28.98,-118.77 35.85,-117.39\"/>\n",
       "</g>\n",
       "<!-- U2 -->\n",
       "<g id=\"node5\" class=\"node\">\n",
       "<title>U2</title>\n",
       "<ellipse fill=\"none\" stroke=\"black\" cx=\"140\" cy=\"-162\" rx=\"27\" ry=\"18\"/>\n",
       "<text text-anchor=\"middle\" x=\"140\" y=\"-158.3\" font-family=\"Times New Roman,serif\" font-size=\"14.00\">U2</text>\n",
       "</g>\n",
       "<!-- U2&#45;&gt;Z -->\n",
       "<g id=\"edge3\" class=\"edge\">\n",
       "<title>U2&#45;&gt;Z</title>\n",
       "<path fill=\"none\" stroke=\"black\" d=\"M130.49,-144.76C125.47,-136.19 119.2,-125.49 113.58,-115.9\"/>\n",
       "<polygon fill=\"black\" stroke=\"black\" points=\"116.53,-114.01 108.46,-107.15 110.49,-117.55 116.53,-114.01\"/>\n",
       "</g>\n",
       "<!-- U2&#45;&gt;Y -->\n",
       "<g id=\"edge4\" class=\"edge\">\n",
       "<title>U2&#45;&gt;Y</title>\n",
       "<path fill=\"none\" stroke=\"black\" d=\"M141.7,-143.76C142.9,-125.44 143.09,-95.89 135,-72 131.42,-61.41 125.1,-50.97 118.74,-42.19\"/>\n",
       "<polygon fill=\"black\" stroke=\"black\" points=\"121.34,-39.82 112.48,-34.02 115.79,-44.08 121.34,-39.82\"/>\n",
       "</g>\n",
       "</g>\n",
       "</svg>\n"
      ],
      "text/plain": [
       "<graphviz.graphs.Digraph at 0x250fb7643a0>"
      ]
     },
     "execution_count": 20,
     "metadata": {},
     "output_type": "execute_result"
    }
   ],
   "source": [
    "dag4 = CausalGraphicalModel(\n",
    "    nodes=[\"U1\",\"U2\", \"Z\", \"X\", \"Y\"],\n",
    "    edges=[\n",
    "        (\"U1\", \"Z\"), \n",
    "        (\"U1\", \"X\"),\n",
    "        (\"X\", \"Y\"),\n",
    "        (\"Z\", \"Y\"),\n",
    "        (\"U2\", \"Z\"),\n",
    "        (\"U2\", \"Y\")\n",
    "    ]\n",
    ")\n",
    "\n",
    "dag4.draw()"
   ]
  },
  {
   "cell_type": "code",
   "execution_count": 21,
   "id": "7f1f49f3",
   "metadata": {},
   "outputs": [],
   "source": [
    "np.random.seed(111)\n",
    "n_samples = 100000"
   ]
  },
  {
   "cell_type": "code",
   "execution_count": 22,
   "id": "e0eec6a5",
   "metadata": {},
   "outputs": [],
   "source": [
    "true_effect = 1"
   ]
  },
  {
   "cell_type": "code",
   "execution_count": 23,
   "id": "164d8a88",
   "metadata": {},
   "outputs": [],
   "source": [
    "U1 = np.random.normal(size=n_samples)\n",
    "U2 = np.random.normal(size=n_samples)\n",
    "\n",
    "Z = 0.6 * U1 + 0.5 * U2 + np.random.normal(size=n_samples)\n",
    "X = 0.8 * U1 + np.random.normal(size=n_samples)\n",
    "Y = true_effect * X + 0.4 * Z + 0.9 * U2 + np.random.normal(size=n_samples) \n",
    "\n",
    "df = pd.DataFrame({'X': X, 'Y': Y, 'Z': Z})"
   ]
  },
  {
   "cell_type": "code",
   "execution_count": 24,
   "id": "b0db599d",
   "metadata": {},
   "outputs": [],
   "source": [
    "pop_X = X.reshape(-1, 1)\n",
    "pop_Y = Y.reshape(-1, 1)\n",
    "pop_Z = Z.reshape(-1, 1)"
   ]
  },
  {
   "cell_type": "code",
   "execution_count": 25,
   "id": "65a1573e",
   "metadata": {},
   "outputs": [
    {
     "name": "stdout",
     "output_type": "stream",
     "text": [
      "Número de muestras seleccionadas: 93\n"
     ]
    }
   ],
   "source": [
    "#filtro para seleecionar muestra\n",
    "sample_filter = np.random.uniform(0, 1, (n_samples, 1)) < 0.001\n",
    "sample_indices = np.where(sample_filter)[0]\n",
    "print(f\"Número de muestras seleccionadas: {len(sample_indices)}\")"
   ]
  },
  {
   "cell_type": "markdown",
   "id": "9f877c81",
   "metadata": {},
   "source": [
    "### Regress Y vs. X with and without controlling for  Z\n"
   ]
  },
  {
   "cell_type": "code",
   "execution_count": 28,
   "id": "f13ef33e",
   "metadata": {},
   "outputs": [
    {
     "name": "stdout",
     "output_type": "stream",
     "text": [
      "\n",
      "--- Regresión Final de Y vs. X (SIN constante) ---\n",
      "                                 OLS Regression Results                                \n",
      "=======================================================================================\n",
      "Dep. Variable:                      y   R-squared (uncentered):                   0.392\n",
      "Model:                            OLS   Adj. R-squared (uncentered):              0.385\n",
      "Method:                 Least Squares   F-statistic:                              59.26\n",
      "Date:                Sat, 27 Sep 2025   Prob (F-statistic):                    1.52e-11\n",
      "Time:                        15:55:38   Log-Likelihood:                         -179.64\n",
      "No. Observations:                  93   AIC:                                      361.3\n",
      "Df Residuals:                      92   BIC:                                      363.8\n",
      "Df Model:                           1                                                  \n",
      "Covariance Type:            nonrobust                                                  \n",
      "==============================================================================\n",
      "                 coef    std err          t      P>|t|      [0.025      0.975]\n",
      "------------------------------------------------------------------------------\n",
      "x1             1.2213      0.159      7.698      0.000       0.906       1.536\n",
      "==============================================================================\n",
      "Omnibus:                        1.823   Durbin-Watson:                   1.967\n",
      "Prob(Omnibus):                  0.402   Jarque-Bera (JB):                1.333\n",
      "Skew:                          -0.023   Prob(JB):                        0.514\n",
      "Kurtosis:                       3.585   Cond. No.                         1.00\n",
      "==============================================================================\n",
      "\n",
      "Notes:\n",
      "[1] R² is computed without centering (uncentered) since the model does not contain a constant.\n",
      "[2] Standard Errors assume that the covariance matrix of the errors is correctly specified.\n"
     ]
    }
   ],
   "source": [
    "# Modelo 1: Y ~ X (sin constante)\n",
    "model_sin_Z = sm.OLS(pop_Y[sample_indices], pop_X[sample_indices]).fit()\n",
    "print(\"\\n--- Regresión Final de Y vs. X (SIN constante) ---\")\n",
    "print(model_sin_Z.summary())"
   ]
  },
  {
   "cell_type": "code",
   "execution_count": 29,
   "id": "c33f5deb",
   "metadata": {},
   "outputs": [
    {
     "name": "stdout",
     "output_type": "stream",
     "text": [
      "\n",
      "--- Regresión Final de Y vs. X (controlando pors Z y SIN constante) ---\n",
      "                                 OLS Regression Results                                \n",
      "=======================================================================================\n",
      "Dep. Variable:                      y   R-squared (uncentered):                   0.573\n",
      "Model:                            OLS   Adj. R-squared (uncentered):              0.564\n",
      "Method:                 Least Squares   F-statistic:                              61.06\n",
      "Date:                Sat, 27 Sep 2025   Prob (F-statistic):                    1.53e-17\n",
      "Time:                        15:55:41   Log-Likelihood:                         -163.19\n",
      "No. Observations:                  93   AIC:                                      330.4\n",
      "Df Residuals:                      91   BIC:                                      335.4\n",
      "Df Model:                           2                                                  \n",
      "Covariance Type:            nonrobust                                                  \n",
      "==============================================================================\n",
      "                 coef    std err          t      P>|t|      [0.025      0.975]\n",
      "------------------------------------------------------------------------------\n",
      "x1             1.0350      0.137      7.556      0.000       0.763       1.307\n",
      "x2             0.8353      0.134      6.215      0.000       0.568       1.102\n",
      "==============================================================================\n",
      "Omnibus:                        5.904   Durbin-Watson:                   1.770\n",
      "Prob(Omnibus):                  0.052   Jarque-Bera (JB):                5.232\n",
      "Skew:                           0.516   Prob(JB):                       0.0731\n",
      "Kurtosis:                       3.535   Cond. No.                         1.25\n",
      "==============================================================================\n",
      "\n",
      "Notes:\n",
      "[1] R² is computed without centering (uncentered) since the model does not contain a constant.\n",
      "[2] Standard Errors assume that the covariance matrix of the errors is correctly specified.\n"
     ]
    }
   ],
   "source": [
    "# Modelo 2: Y ~ X + Z (sin constante y con hstack)\n",
    "model_con_Z = sm.OLS(\n",
    "    pop_Y[sample_indices], \n",
    "    np.hstack((pop_X[sample_indices], pop_Z[sample_indices]))\n",
    ").fit()\n",
    "print(\"\\n--- Regresión Final de Y vs. X (controlando pors Z y SIN constante) ---\")\n",
    "print(model_con_Z.summary())"
   ]
  },
  {
   "cell_type": "markdown",
   "id": "27d1b62b",
   "metadata": {},
   "source": [
    "### Plot your coefficients associated with  X in a single graph like in Part 2. Add this time a horizontal line indicating the true causal effect"
   ]
  },
  {
   "cell_type": "code",
   "execution_count": null,
   "id": "70b22994",
   "metadata": {},
   "outputs": [],
   "source": [
    "#  modelos para el gráfico\n",
    "model_names = ['Y vs. X', 'Y vs. X, Z']\n",
    "\n",
    "# Coeficientes de X de cada modelo\n",
    "coefficients = [\n",
    "    model_sin_Z.params[0],          # Coeficiente de X en el primer modelo\n",
    "    model_con_Z.params[0]              # Coeficiente de X en el segundo modelo\n",
    "]\n",
    "\n",
    "# Intervalos de confianza al 99%\n",
    "conf_intervals = [\n",
    "    model_sin_Z.conf_int(alpha=0.01)[0],\n",
    "    model_con_Z.conf_int(alpha=0.01)[0]\n",
    "]\n",
    "\n",
    "# Calculo los errores para el gráfico \n",
    "errors = [\n",
    "    coefficients[0] - conf_intervals[0][0],\n",
    "    coefficients[1] - conf_intervals[1][0]\n",
    "]\n"
   ]
  },
  {
   "cell_type": "code",
   "execution_count": null,
   "id": "26e4bcd9",
   "metadata": {},
   "outputs": [
    {
     "data": {
      "image/png": "[encoded data removed]",
      "text/plain": [
       "<Figure size 800x600 with 1 Axes>"
      ]
     },
     "metadata": {},
     "output_type": "display_data"
    }
   ],
   "source": [
    "plt.figure(figsize=(8, 6))\n",
    "\n",
    "# Gráfico de barras con los errores\n",
    "plt.bar(model_names, coefficients, yerr=errors, capsize=5, color=['skyblue', 'salmon'], alpha=0.8)\n",
    "\n",
    "# Línea horizontal para el efecto causal verdadero\n",
    "plt.axhline(y=true_effect, color='r', linestyle='--', label=f'Efecto Causal Verdadero = {true_effect}')\n",
    "\n",
    "# Títulos y etiquetas\n",
    "plt.title('Estimación del Efecto de X en Y')\n",
    "plt.ylabel('Coeficiente Estimado de X')\n",
    "plt.ylim(-2, 2) # Ajustar el eje Y para una mejor visualización\n",
    "plt.legend()\n",
    "plt.grid(axis='y', linestyle='--', alpha=0.7)\n",
    "\n",
    "# Guardar el gráfico en la carpeta 'output'\n",
    "os.makedirs('output', exist_ok=True)\n",
    "plt.savefig('output/part3_coefficients_plot.png')\n",
    "\n",
    "# Mostrar el gráfico\n",
    "plt.show()\n"
   ]
  },
  {
   "cell_type": "markdown",
   "id": "4b764aec",
   "metadata": {},
   "source": [
    "### Modify the DAG so z also has an effct on X"
   ]
  },
  {
   "cell_type": "code",
   "execution_count": 31,
   "id": "3efb8229",
   "metadata": {},
   "outputs": [
    {
     "data": {
      "image/svg+xml": [
       "<?xml version=\"1.0\" encoding=\"UTF-8\" standalone=\"no\"?>\n",
       "<!DOCTYPE svg PUBLIC \"-//W3C//DTD SVG 1.1//EN\"\n",
       " \"http://www.w3.org/Graphics/SVG/1.1/DTD/svg11.dtd\">\n",
       "<!-- Generated by graphviz version 2.46.0 (20210118.1747)\n",
       " -->\n",
       "<!-- Pages: 1 -->\n",
       "<svg width=\"154pt\" height=\"260pt\"\n",
       " viewBox=\"0.00 0.00 154.00 260.00\" xmlns=\"http://www.w3.org/2000/svg\" xmlns:xlink=\"http://www.w3.org/1999/xlink\">\n",
       "<g id=\"graph0\" class=\"graph\" transform=\"scale(1 1) rotate(0) translate(4 256)\">\n",
       "<polygon fill=\"white\" stroke=\"transparent\" points=\"-4,4 -4,-256 150,-256 150,4 -4,4\"/>\n",
       "<!-- Z -->\n",
       "<g id=\"node1\" class=\"node\">\n",
       "<title>Z</title>\n",
       "<ellipse fill=\"none\" stroke=\"black\" cx=\"73\" cy=\"-162\" rx=\"27\" ry=\"18\"/>\n",
       "<text text-anchor=\"middle\" x=\"73\" y=\"-158.3\" font-family=\"Times New Roman,serif\" font-size=\"14.00\">Z</text>\n",
       "</g>\n",
       "<!-- X -->\n",
       "<g id=\"node2\" class=\"node\">\n",
       "<title>X</title>\n",
       "<ellipse fill=\"none\" stroke=\"black\" cx=\"119\" cy=\"-90\" rx=\"27\" ry=\"18\"/>\n",
       "<text text-anchor=\"middle\" x=\"119\" y=\"-86.3\" font-family=\"Times New Roman,serif\" font-size=\"14.00\">X</text>\n",
       "</g>\n",
       "<!-- Z&#45;&gt;X -->\n",
       "<g id=\"edge7\" class=\"edge\">\n",
       "<title>Z&#45;&gt;X</title>\n",
       "<path fill=\"none\" stroke=\"black\" d=\"M83.44,-145.12C89.2,-136.34 96.48,-125.26 102.96,-115.42\"/>\n",
       "<polygon fill=\"black\" stroke=\"black\" points=\"106.04,-117.1 108.6,-106.82 100.19,-113.26 106.04,-117.1\"/>\n",
       "</g>\n",
       "<!-- Y -->\n",
       "<g id=\"node3\" class=\"node\">\n",
       "<title>Y</title>\n",
       "<ellipse fill=\"none\" stroke=\"black\" cx=\"64\" cy=\"-18\" rx=\"27\" ry=\"18\"/>\n",
       "<text text-anchor=\"middle\" x=\"64\" y=\"-14.3\" font-family=\"Times New Roman,serif\" font-size=\"14.00\">Y</text>\n",
       "</g>\n",
       "<!-- Z&#45;&gt;Y -->\n",
       "<g id=\"edge6\" class=\"edge\">\n",
       "<title>Z&#45;&gt;Y</title>\n",
       "<path fill=\"none\" stroke=\"black\" d=\"M71.91,-143.87C70.38,-119.67 67.56,-75.21 65.74,-46.39\"/>\n",
       "<polygon fill=\"black\" stroke=\"black\" points=\"69.22,-45.95 65.09,-36.19 62.23,-46.39 69.22,-45.95\"/>\n",
       "</g>\n",
       "<!-- X&#45;&gt;Y -->\n",
       "<g id=\"edge5\" class=\"edge\">\n",
       "<title>X&#45;&gt;Y</title>\n",
       "<path fill=\"none\" stroke=\"black\" d=\"M107.07,-73.81C99.79,-64.55 90.34,-52.52 82.15,-42.09\"/>\n",
       "<polygon fill=\"black\" stroke=\"black\" points=\"84.84,-39.86 75.91,-34.16 79.34,-44.18 84.84,-39.86\"/>\n",
       "</g>\n",
       "<!-- U1 -->\n",
       "<g id=\"node4\" class=\"node\">\n",
       "<title>U1</title>\n",
       "<ellipse fill=\"none\" stroke=\"black\" cx=\"118\" cy=\"-234\" rx=\"27\" ry=\"18\"/>\n",
       "<text text-anchor=\"middle\" x=\"118\" y=\"-230.3\" font-family=\"Times New Roman,serif\" font-size=\"14.00\">U1</text>\n",
       "</g>\n",
       "<!-- U1&#45;&gt;Z -->\n",
       "<g id=\"edge2\" class=\"edge\">\n",
       "<title>U1&#45;&gt;Z</title>\n",
       "<path fill=\"none\" stroke=\"black\" d=\"M107.79,-217.12C102.15,-208.34 95.03,-197.26 88.7,-187.42\"/>\n",
       "<polygon fill=\"black\" stroke=\"black\" points=\"91.52,-185.34 83.17,-178.82 85.63,-189.13 91.52,-185.34\"/>\n",
       "</g>\n",
       "<!-- U1&#45;&gt;X -->\n",
       "<g id=\"edge1\" class=\"edge\">\n",
       "<title>U1&#45;&gt;X</title>\n",
       "<path fill=\"none\" stroke=\"black\" d=\"M118.12,-215.87C118.29,-191.67 118.6,-147.21 118.81,-118.39\"/>\n",
       "<polygon fill=\"black\" stroke=\"black\" points=\"122.31,-118.21 118.88,-108.19 115.31,-118.16 122.31,-118.21\"/>\n",
       "</g>\n",
       "<!-- U2 -->\n",
       "<g id=\"node5\" class=\"node\">\n",
       "<title>U2</title>\n",
       "<ellipse fill=\"none\" stroke=\"black\" cx=\"27\" cy=\"-234\" rx=\"27\" ry=\"18\"/>\n",
       "<text text-anchor=\"middle\" x=\"27\" y=\"-230.3\" font-family=\"Times New Roman,serif\" font-size=\"14.00\">U2</text>\n",
       "</g>\n",
       "<!-- U2&#45;&gt;Z -->\n",
       "<g id=\"edge4\" class=\"edge\">\n",
       "<title>U2&#45;&gt;Z</title>\n",
       "<path fill=\"none\" stroke=\"black\" d=\"M37.44,-217.12C43.2,-208.34 50.48,-197.26 56.96,-187.42\"/>\n",
       "<polygon fill=\"black\" stroke=\"black\" points=\"60.04,-189.1 62.6,-178.82 54.19,-185.26 60.04,-189.1\"/>\n",
       "</g>\n",
       "<!-- U2&#45;&gt;Y -->\n",
       "<g id=\"edge3\" class=\"edge\">\n",
       "<title>U2&#45;&gt;Y</title>\n",
       "<path fill=\"none\" stroke=\"black\" d=\"M28.41,-215.87C30.01,-197.9 32.93,-168.86 37,-144 42.59,-109.88 51.37,-71 57.39,-45.79\"/>\n",
       "<polygon fill=\"black\" stroke=\"black\" points=\"60.84,-46.42 59.79,-35.88 54.04,-44.78 60.84,-46.42\"/>\n",
       "</g>\n",
       "</g>\n",
       "</svg>\n"
      ],
      "text/plain": [
       "<graphviz.graphs.Digraph at 0x250f940ff10>"
      ]
     },
     "execution_count": 31,
     "metadata": {},
     "output_type": "execute_result"
    }
   ],
   "source": [
    "# Nuevo DAG con la nueva relación Z -> X\n",
    "dag_2 = CausalGraphicalModel(\n",
    "    nodes=[\"U1\", \"U2\", \"X\", \"Y\", \"Z\"],\n",
    "    edges=[\n",
    "        (\"U1\", \"X\"), (\"U1\", \"Z\"),\n",
    "        (\"U2\", \"Y\"), (\"U2\", \"Z\"),\n",
    "        (\"X\", \"Y\"),  (\"Z\", \"Y\"),\n",
    "        (\"Z\", \"X\")  # The new causal path\n",
    "    ]\n",
    ")\n",
    "\n",
    "# Draw the modified graph\n",
    "dag_2.draw()"
   ]
  },
  {
   "cell_type": "code",
   "execution_count": 32,
   "id": "27aa94b9",
   "metadata": {},
   "outputs": [
    {
     "data": {
      "text/html": [
       "<div>\n",
       "<style scoped>\n",
       "    .dataframe tbody tr th:only-of-type {\n",
       "        vertical-align: middle;\n",
       "    }\n",
       "\n",
       "    .dataframe tbody tr th {\n",
       "        vertical-align: top;\n",
       "    }\n",
       "\n",
       "    .dataframe thead th {\n",
       "        text-align: right;\n",
       "    }\n",
       "</style>\n",
       "<table border=\"1\" class=\"dataframe\">\n",
       "  <thead>\n",
       "    <tr style=\"text-align: right;\">\n",
       "      <th></th>\n",
       "      <th>X</th>\n",
       "      <th>Y</th>\n",
       "      <th>Z</th>\n",
       "      <th>U1</th>\n",
       "      <th>U2</th>\n",
       "    </tr>\n",
       "  </thead>\n",
       "  <tbody>\n",
       "    <tr>\n",
       "      <th>0</th>\n",
       "      <td>1.364827</td>\n",
       "      <td>4.528490</td>\n",
       "      <td>1.870947</td>\n",
       "      <td>-0.200022</td>\n",
       "      <td>1.251208</td>\n",
       "    </tr>\n",
       "    <tr>\n",
       "      <th>1</th>\n",
       "      <td>2.427789</td>\n",
       "      <td>2.882885</td>\n",
       "      <td>0.833774</td>\n",
       "      <td>0.923275</td>\n",
       "      <td>0.117520</td>\n",
       "    </tr>\n",
       "    <tr>\n",
       "      <th>2</th>\n",
       "      <td>-3.555713</td>\n",
       "      <td>-9.767297</td>\n",
       "      <td>-2.673743</td>\n",
       "      <td>0.262593</td>\n",
       "      <td>-1.826011</td>\n",
       "    </tr>\n",
       "    <tr>\n",
       "      <th>3</th>\n",
       "      <td>2.955952</td>\n",
       "      <td>6.012906</td>\n",
       "      <td>2.055761</td>\n",
       "      <td>0.166883</td>\n",
       "      <td>0.282353</td>\n",
       "    </tr>\n",
       "    <tr>\n",
       "      <th>4</th>\n",
       "      <td>0.973121</td>\n",
       "      <td>0.044354</td>\n",
       "      <td>-0.962310</td>\n",
       "      <td>-0.212177</td>\n",
       "      <td>0.258008</td>\n",
       "    </tr>\n",
       "  </tbody>\n",
       "</table>\n",
       "</div>"
      ],
      "text/plain": [
       "          X         Y         Z        U1        U2\n",
       "0  1.364827  4.528490  1.870947 -0.200022  1.251208\n",
       "1  2.427789  2.882885  0.833774  0.923275  0.117520\n",
       "2 -3.555713 -9.767297 -2.673743  0.262593 -1.826011\n",
       "3  2.955952  6.012906  2.055761  0.166883  0.282353\n",
       "4  0.973121  0.044354 -0.962310 -0.212177  0.258008"
      ]
     },
     "execution_count": 32,
     "metadata": {},
     "output_type": "execute_result"
    }
   ],
   "source": [
    "# U1 y U2 ahora son observables\n",
    "U1 = np.random.normal(size=n_samples)\n",
    "U2 = np.random.normal(size=n_samples)\n",
    "\n",
    "# valor de Z depende de U1 y U2\n",
    "Z = 1 * U1 + 1 * U2 + np.random.normal(size=n_samples)\n",
    "\n",
    "# X's value now depends on U1 AND Z\n",
    "X = 1 * U1 + 1 * Z + np.random.normal(size=n_samples)\n",
    "\n",
    "# Y's  depends de X, Z, U2\n",
    "Y = 1 * X + 1 * Z + 1 * U2 + np.random.normal(size=n_samples)\n",
    "\n",
    "# Create a DataFrame with all 5 observable variables\n",
    "df_modified = pd.DataFrame({\n",
    "    'X': X, 'Y': Y, 'Z': Z, 'U1': U1, 'U2': U2\n",
    "})\n",
    "\n",
    "df_modified.head()"
   ]
  },
  {
   "cell_type": "code",
   "execution_count": 37,
   "id": "1582f09e",
   "metadata": {},
   "outputs": [
    {
     "name": "stdout",
     "output_type": "stream",
     "text": [
      " Coeficiente de X en cada regresión \n",
      "El efecto causal verdadero es 1\n",
      "Y ~ X                    : 1.7112\n",
      "Y ~ X + Z                : 0.8001\n",
      "Y ~ X + U1               : 1.9981\n",
      "Y ~ X + U2               : 1.4988\n",
      "Y ~ X + Z + U1           : 0.9985\n",
      "Y ~ X + Z + U2           : 1.0000\n",
      "Y ~ X + U1 + U2          : 1.5036\n",
      "Y ~ X + Z + U1 + U2      : 1.0015\n"
     ]
    }
   ],
   "source": [
    "# (El código de la simulación de la respuesta anterior se asume ya ejecutado)\n",
    "# df_modified ya existe y contiene X, Y, Z, U1, U2\n",
    "\n",
    "# --- Regresiones con todas las combinaciones de controles ---\n",
    "\n",
    "# Almacenaremos los resultados aquí para verlos fácilmente\n",
    "results = {}\n",
    "\n",
    "# 1. Sin controles\n",
    "model_1 = sm.OLS(df_modified['Y'], df_modified['X']).fit()\n",
    "results['Y ~ X'] = model_1.params['X']\n",
    "\n",
    "# 2. Controlando por Z\n",
    "model_2 = sm.OLS(df_modified['Y'], df_modified[['X', 'Z']]).fit()\n",
    "results['Y ~ X + Z'] = model_2.params['X']\n",
    "\n",
    "# 3. Controlando por U1\n",
    "model_3 = sm.OLS(df_modified['Y'], df_modified[['X', 'U1']]).fit()\n",
    "results['Y ~ X + U1'] = model_3.params['X']\n",
    "\n",
    "# 4. Controlando por U2\n",
    "model_4 = sm.OLS(df_modified['Y'], df_modified[['X', 'U2']]).fit()\n",
    "results['Y ~ X + U2'] = model_4.params['X']\n",
    "\n",
    "# 5. Controlando por Z y U1\n",
    "model_5 = sm.OLS(df_modified['Y'], df_modified[['X', 'Z', 'U1']]).fit()\n",
    "results['Y ~ X + Z + U1'] = model_5.params['X']\n",
    "\n",
    "# 6. Controlando por Z y U2\n",
    "model_6 = sm.OLS(df_modified['Y'], df_modified[['X', 'Z', 'U2']]).fit()\n",
    "results['Y ~ X + Z + U2'] = model_6.params['X']\n",
    "\n",
    "# 7. Controlando por U1 y U2\n",
    "model_7 = sm.OLS(df_modified['Y'], df_modified[['X', 'U1', 'U2']]).fit()\n",
    "results['Y ~ X + U1 + U2'] = model_7.params['X']\n",
    "\n",
    "# 8. Controlando por Z, U1 y U2\n",
    "model_8 = sm.OLS(df_modified['Y'], df_modified[['X', 'Z', 'U1', 'U2']]).fit()\n",
    "results['Y ~ X + Z + U1 + U2'] = model_8.params['X']\n",
    "\n",
    "# Imprimir los resultados de forma clara\n",
    "print(\" Coeficiente de X en cada regresión \")\n",
    "print(f\"El efecto causal verdadero es {true_effect}\")\n",
    "for model, coef in results.items():\n",
    "    print(f\"{model:<25}: {coef:.4f}\")"
   ]
  },
  {
   "cell_type": "code",
   "execution_count": 38,
   "id": "aa3491c0",
   "metadata": {},
   "outputs": [
    {
     "name": "stdout",
     "output_type": "stream",
     "text": [
      "--- Tabla de Resultados: Efecto Estimado de X en Y ---\n",
      "El efecto causal verdadero es: 1\n",
      "\n",
      "                  β        SE\n",
      "Controls                     \n",
      "None       1.711163  0.002222\n",
      "Z          0.800070  0.003085\n",
      "U1         1.998149  0.003163\n",
      "U2         1.498795  0.001586\n",
      "Z, U1      0.998532  0.003872\n",
      "Z, U2      0.999991  0.002579\n",
      "U1, U2     1.503629  0.002735\n",
      "Z, U1, U2  1.001493  0.003166\n",
      "\n",
      "✅ La tabla de resultados ha sido exportada a 'output/regression_results.txt'\n"
     ]
    }
   ],
   "source": [
    "models = [model_1, model_2, model_3, model_4, model_5, model_6, model_7, model_8]\n",
    "row_names = [\n",
    "    'None',\n",
    "    'Z',\n",
    "    'U1',\n",
    "    'U2',\n",
    "    'Z, U1',\n",
    "    'Z, U2',\n",
    "    'U1, U2',\n",
    "    'Z, U1, U2'\n",
    "]\n",
    "\n",
    "# 2. Extraer el coeficiente (β) y el error estándar (SE) de X para cada modelo\n",
    "results_data = []\n",
    "for model in models:\n",
    "    # model.params['X'] nos da el coeficiente de X\n",
    "    beta = model.params['X']\n",
    "    # model.bse['X'] nos da el error estándar de X\n",
    "    se = model.bse['X']\n",
    "    results_data.append({'β': beta, 'SE': se})\n",
    "\n",
    "# 3. Crear el DataFrame final con los nombres de columna y fila correctos\n",
    "results_df = pd.DataFrame(results_data, index=row_names)\n",
    "results_df.index.name = 'Controls' # Le damos un nombre a la columna del índice\n",
    "\n",
    "# 4. Presentar la tabla en pantalla y exportarla\n",
    "\n",
    "print(\"--- Tabla de Resultados: Efecto Estimado de X en Y ---\")\n",
    "print(f\"El efecto causal verdadero es: {true_effect}\\n\")\n",
    "print(results_df)\n",
    "\n",
    "# [cite_start]Exportar la tabla a un archivo .txt en la carpeta /output [cite: 75]\n",
    "# .to_string() crea una versión de texto bien formateada de la tabla\n",
    "os.makedirs('output', exist_ok=True)\n",
    "results_df.to_string(open('output/regression_results.txt', 'w'))\n",
    "\n",
    "print(\"\\n✅ La tabla de resultados ha sido exportada a 'output/regression_results.txt'\")\n"
   ]
  },
  {
   "cell_type": "markdown",
   "id": "f3b320fa",
   "metadata": {},
   "source": [
    "### Based on your findings, in what way(s) can you get a good estimate of the causal effect? "
   ]
  },
  {
   "cell_type": "code",
   "execution_count": null,
   "id": "106bfff9",
   "metadata": {},
   "outputs": [
    {
     "name": "stdout",
     "output_type": "stream",
     "text": [
      "--- Análisis de Resultados ---\n",
      "Efecto Causal Verdadero: 1\n",
      "Tolerancia para una 'buena' estimación: +/- 0.02\n",
      "\n",
      " Se encontró una buena estimación del efecto causal controlando por los siguientes conjuntos de variables:\n",
      "   - {Z, U1}\n",
      "   - {Z, U2}\n",
      "   - {Z, U1, U2}\n"
     ]
    }
   ],
   "source": [
    "tolerance = 0.02\n",
    "\n",
    "# Lista para guardar los nombres de los conjuntos de controles que funcionan\n",
    "good_control_sets = []\n",
    "\n",
    "# Iteramos sobre cada fila de nuestra tabla de resultados\n",
    "for control_set, row in results_df.iterrows():\n",
    "    beta_estimate = row['β']\n",
    "    \n",
    "    # Comprobamos si el coef esta dentro de la tolerancia\n",
    "    if abs(beta_estimate - true_effect) < tolerance:\n",
    "        good_control_sets.append(control_set)\n",
    "\n",
    "\n",
    "print(\"--- Análisis de Resultados ---\")\n",
    "print(f\"Efecto Causal Verdadero: {true_effect}\")\n",
    "print(f\"Tolerancia para una buena estimación: +/- {tolerance}\\n\")\n",
    "\n",
    "if good_control_sets:\n",
    "    print(\" Se encontró una buena estimación del efecto causal controlando por los siguientes conjuntos de variables:\")\n",
    "    for item in good_control_sets:\n",
    "        print(f\"   - {{{item}}}\")\n",
    "else:\n",
    "    print(\" Ninguno de los modelos produjo una estimación dentro de la tolerancia especificada.\")\n"
   ]
  },
  {
   "cell_type": "markdown",
   "id": "a60e5950",
   "metadata": {},
   "source": [
    "### What is the minimal sufficient set of controls to get a good estimate? \n"
   ]
  },
  {
   "cell_type": "code",
   "execution_count": 46,
   "id": "b7d5b16d",
   "metadata": {},
   "outputs": [
    {
     "name": "stdout",
     "output_type": "stream",
     "text": [
      "--- Análisis de Conjuntos Mínimos Suficientes ---\n",
      "\n",
      " El conjunto(s) mínimo(s) suficiente(s) de controles para obtener una buena estimación es/son:\n",
      "   - ['U1', 'Z']\n",
      "   - ['U2', 'Z']\n"
     ]
    }
   ],
   "source": [
    "#se puede observar que el minimo seria solo usar 2 controles {Z, U1} o {Z, U2}\n",
    "\n",
    "#si lo queremos hacer automatico, se resuelve de esta manera:\n",
    "# Convertimos los nombres de los conjuntos buenos en sets para facilitar la comparación\n",
    "good_sets_as_sets = []\n",
    "for item in good_control_sets:\n",
    "    if item == 'None':\n",
    "        good_sets_as_sets.append(set())\n",
    "    else:\n",
    "        # Separamos el texto por la coma y el espacio para obtener las variables individuales\n",
    "        variables = set(item.split(', '))\n",
    "        good_sets_as_sets.append(variables)\n",
    "\n",
    "# Lista para guardar los conjuntos que determinemos que son mínimos\n",
    "minimal_sufficient_sets = []\n",
    "\n",
    "# Iteramos sobre cada conjunto bueno para ver si es mínimo\n",
    "for current_set in good_sets_as_sets:\n",
    "    is_minimal = True\n",
    "    # Comparamos el conjunto actual con todos los demás conjuntos buenos\n",
    "    for other_set in good_sets_as_sets:\n",
    "        # Si encontramos otro conjunto que es un subconjunto propio del actual,\n",
    "        # entonces el actual no puede ser mínimo.\n",
    "        if other_set != current_set and other_set.issubset(current_set):\n",
    "            is_minimal = False\n",
    "            break # No necesitamos seguir buscando, ya sabemos que no es mínimo\n",
    "    \n",
    "    # Si después de comparar con todos los demás, no se encontró un subconjunto, es mínimo\n",
    "    if is_minimal:\n",
    "        minimal_sufficient_sets.append(current_set)\n",
    "\n",
    "# --- Imprimir el resultado final ---\n",
    "\n",
    "print(\"--- Análisis de Conjuntos Mínimos Suficientes ---\\n\")\n",
    "if minimal_sufficient_sets:\n",
    "    print(\" El conjunto(s) mínimo(s) suficiente(s) de controles para obtener una buena estimación es/son:\")\n",
    "    for min_set in minimal_sufficient_sets:\n",
    "        # Se muestra un formato amigable si el conjunto está vacío\n",
    "        if not min_set:\n",
    "            print(\"   - {None}\")\n",
    "        else:\n",
    "            print(f\"   - {sorted(list(min_set))}\") # sorted() para un orden consistente\n",
    "else:\n",
    "    print(\" No se encontraron conjuntos de controles suficientes en el análisis.\")\n"
   ]
  },
  {
   "cell_type": "markdown",
   "id": "7ed17630",
   "metadata": {},
   "source": [
    "### Provide intuition on why you can get good estimates controlling for the variables you stablished above\n",
    "\n",
    "{Z, U1} es un buen control porque cierra todos los caminos espurios originales y, crucialmente, también neutraliza el nuevo camino espurio que se genera al controlar por el collider. La misma lógica aplica para el conjunto {Z, U2}."
   ]
  }
 ],
 "metadata": {
  "kernelspec": {
   "display_name": "dags_env",
   "language": "python",
   "name": "python3"
  },
  "language_info": {
   "codemirror_mode": {
    "name": "ipython",
    "version": 3
   },
   "file_extension": ".py",
   "mimetype": "text/x-python",
   "name": "python",
   "nbconvert_exporter": "python",
   "pygments_lexer": "ipython3",
   "version": "3.9.23"
  }
 },
 "nbformat": 4,
 "nbformat_minor": 5
}
