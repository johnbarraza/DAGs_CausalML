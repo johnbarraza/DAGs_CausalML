{
 "cells": [
  {
   "cell_type": "code",
   "execution_count": 1,
   "metadata": {},
   "outputs": [],
   "source": [
    "using Random\n",
    "using DataFrames\n",
    "using GLM\n",
    "using Statistics\n",
    "using Plots"
   ]
  },
  {
   "cell_type": "code",
   "execution_count": 2,
   "metadata": {},
   "outputs": [],
   "source": [
    "Random.seed!(42)\n",
    "n = 20_000\n",
    "\n",
    "e1 = randn(n)\n",
    "e2 = randn(n)\n",
    "e3 = randn(n)\n",
    "ex = randn(n)\n",
    "ey = randn(n)\n",
    "\n",
    "Z1 = e1\n",
    "Z3 = e3\n",
    "Z2 = Z3 .+ e2\n",
    "X = Z1 .+ Z2 .+ ex\n",
    "Y = X .+ Z1 .+ Z2 .+ Z3 .+ ey\n",
    "\n",
    "df = DataFrame(Y=Y, X=X, Z1=Z1, Z2=Z2, Z3=Z3)"
   ]
  },
  {
   "cell_type": "code",
   "execution_count": 3,
   "metadata": {},
   "outputs": [],
   "source": [
    "function run_ols(vars)\n",
    "    syms = Symbol.(vars)\n",
    "    fmla = Term(:Y) ~ sum(Term.(syms))\n",
    "    model = lm(fmla, df)\n",
    "    coefs = coef(model)\n",
    "    se = stderror(model)\n",
    "    names = coefnames(model)\n",
    "    idx = findfirst(==(\"X\"), names)\n",
    "    if idx === nothing\n",
    "        idx = findfirst(==(:X), names)\n",
    "    end\n",
    "    β = coefs[idx]\n",
    "    seX = se[idx]\n",
    "    z = 2.5758  # IC 99%\n",
    "    ci_low = β - z * seX\n",
    "    ci_high = β + z * seX\n",
    "    return (vars = vars, β = β, se = seX, ci_low = ci_low, ci_high = ci_high)\n",
    "end"
   ]
  },
  {
   "cell_type": "code",
   "execution_count": 4,
   "metadata": {},
   "outputs": [],
   "source": [
    "models = [\n",
    "    [\"X\"],\n",
    "    [\"X\", \"Z1\"],\n",
    "    [\"X\", \"Z2\"],\n",
    "    [\"X\", \"Z1\", \"Z2\"],\n",
    "    [\"X\", \"Z1\", \"Z2\", \"Z3\"]\n",
    "]"
   ]
  },
  {
   "cell_type": "code",
   "execution_count": 5,
   "metadata": {},
   "outputs": [],
   "source": [
    "results = [run_ols(m) for m in models]\n",
    "\n",
    "tabla = DataFrame(\n",
    "    Regresion = [\"Y~X\", \"Y~X+Z1\", \"Y~X+Z2\", \"Y~X+Z1+Z2\", \"Y~X+Z1+Z2+Z3\"],\n",
    "    Beta_X = [r.β for r in results],\n",
    "    SE = [r.se for r in results],\n",
    "    CI_low = [r.ci_low for r in results],\n",
    "    CI_high = [r.ci_high for r in results]\n",
    ")"
   ]
  },
  {
   "cell_type": "code",
   "execution_count": 6,
   "metadata": {},
   "outputs": [],
   "source": [
    "scatter(\n",
    "    1:5, tabla.Beta_X,\n",
    "    yerr = (tabla.Beta_X .- tabla.CI_low, tabla.CI_high .- tabla.Beta_X),\n",
    "    legend = false,\n",
    "    xlabel = \"\",\n",
    "    ylabel = \"Estimador de β_X\",\n",
    "    title = \"Estimaciones del efecto de X sobre Y con IC 99%\",\n",
    "    color = :orange,\n",
    "    markersize = 6\n",
    ")\n",
    "hline!([1.0], linestyle = :dash, color = :black)\n",
    "xticks!(1:5, tabla.Regresion)\n",
    "savefig(\"efecto_X_sobre_Y_julia.png\")"
   ]
  },
  {
   "cell_type": "markdown",
   "metadata": {},
   "source": [
    "Los resultados muestran las estimaciones del efecto de X sobre Y bajo diferentes especificaciones de control. En las primeras tres regresiones (Y~X, Y~X+Z1, Y~X+Z2), los coeficientes estimados de X son significativamente superiores al valor verdadero (β = 1), lo que indica sesgo por variables omitidas. Esto ocurre porque al no incluir simultáneamente las variables Z1 y Z2, se mantienen abiertos los caminos de confusión que influyen tanto en X como en Y.\n",
    "\n",
    "En cambio, las regresiones Y~X+Z1+Z2 y Y~X+Z1+Z2+Z3 arrojan estimaciones cercanas al valor verdadero, mostrando que controlar por Z1 y Z2 bloquea todos los backdoors y permite identificar correctamente el efecto causal de X sobre Y. La inclusión de Z3 no mejora la estimación, ya que esta variable actúa como ancestro de Z2, y su incorporación únicamente incrementa la colinealidad, reduciendo levemente la precisión."
   ]
  }
 ],
 "metadata": {
  "kernelspec": {
   "display_name": "Julia 1.9",
   "language": "julia",
   "name": "julia-1.9"
  },
  "language_info": {
   "file_extension": ".jl",
   "mimetype": "application/julia",
   "name": "julia",
   "version": "1.9"
  }
 },
 "nbformat": 4,
 "nbformat_minor": 5
}
