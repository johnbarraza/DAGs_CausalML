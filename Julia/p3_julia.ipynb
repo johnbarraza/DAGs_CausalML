{
 "cells": [
  {
   "cell_type": "code",
   "execution_count": 3,
   "id": "5ffd7dba",
   "metadata": {},
   "outputs": [],
   "source": [
    "import Pkg"
   ]
  },
  {
   "cell_type": "code",
   "execution_count": 4,
   "id": "8c030db6",
   "metadata": {},
   "outputs": [
    {
     "name": "stderr",
     "output_type": "stream",
     "text": [
      "\u001b[32m\u001b[1m   Resolving\u001b[22m\u001b[39m package versions...\n",
      "\u001b[32m\u001b[1m  No Changes\u001b[22m\u001b[39m to `C:\\Users\\johnb\\.julia\\environments\\v1.11\\Project.toml`\n",
      "\u001b[32m\u001b[1m  No Changes\u001b[22m\u001b[39m to `C:\\Users\\johnb\\.julia\\environments\\v1.11\\Manifest.toml`\n",
      "\u001b[32m\u001b[1m   Resolving\u001b[22m\u001b[39m package versions...\n",
      "\u001b[32m\u001b[1m  No Changes\u001b[22m\u001b[39m to `C:\\Users\\johnb\\.julia\\environments\\v1.11\\Project.toml`\n",
      "\u001b[32m\u001b[1m  No Changes\u001b[22m\u001b[39m to `C:\\Users\\johnb\\.julia\\environments\\v1.11\\Manifest.toml`\n",
      "\u001b[32m\u001b[1m   Resolving\u001b[22m\u001b[39m package versions...\n",
      "\u001b[32m\u001b[1m  No Changes\u001b[22m\u001b[39m to `C:\\Users\\johnb\\.julia\\environments\\v1.11\\Project.toml`\n",
      "\u001b[32m\u001b[1m  No Changes\u001b[22m\u001b[39m to `C:\\Users\\johnb\\.julia\\environments\\v1.11\\Manifest.toml`\n",
      "\u001b[32m\u001b[1m   Resolving\u001b[22m\u001b[39m package versions...\n",
      "\u001b[32m\u001b[1m  No Changes\u001b[22m\u001b[39m to `C:\\Users\\johnb\\.julia\\environments\\v1.11\\Project.toml`\n",
      "\u001b[32m\u001b[1m  No Changes\u001b[22m\u001b[39m to `C:\\Users\\johnb\\.julia\\environments\\v1.11\\Manifest.toml`\n",
      "\u001b[32m\u001b[1m   Resolving\u001b[22m\u001b[39m package versions...\n",
      "\u001b[32m\u001b[1m  No Changes\u001b[22m\u001b[39m to `C:\\Users\\johnb\\.julia\\environments\\v1.11\\Project.toml`\n",
      "\u001b[32m\u001b[1m  No Changes\u001b[22m\u001b[39m to `C:\\Users\\johnb\\.julia\\environments\\v1.11\\Manifest.toml`\n",
      "\u001b[32m\u001b[1m   Resolving\u001b[22m\u001b[39m package versions...\n",
      "\u001b[32m\u001b[1m  No Changes\u001b[22m\u001b[39m to `C:\\Users\\johnb\\.julia\\environments\\v1.11\\Project.toml`\n",
      "\u001b[32m\u001b[1m  No Changes\u001b[22m\u001b[39m to `C:\\Users\\johnb\\.julia\\environments\\v1.11\\Manifest.toml`\n",
      "\u001b[32m\u001b[1m   Resolving\u001b[22m\u001b[39m package versions...\n",
      "\u001b[32m\u001b[1m  No Changes\u001b[22m\u001b[39m to `C:\\Users\\johnb\\.julia\\environments\\v1.11\\Project.toml`\n",
      "\u001b[32m\u001b[1m  No Changes\u001b[22m\u001b[39m to `C:\\Users\\johnb\\.julia\\environments\\v1.11\\Manifest.toml`\n",
      "\u001b[32m\u001b[1m   Resolving\u001b[22m\u001b[39m package versions...\n",
      "\u001b[32m\u001b[1m  No Changes\u001b[22m\u001b[39m to `C:\\Users\\johnb\\.julia\\environments\\v1.11\\Project.toml`\n",
      "\u001b[32m\u001b[1m  No Changes\u001b[22m\u001b[39m to `C:\\Users\\johnb\\.julia\\environments\\v1.11\\Manifest.toml`\n",
      "\u001b[32m\u001b[1m   Resolving\u001b[22m\u001b[39m package versions...\n",
      "\u001b[32m\u001b[1m  No Changes\u001b[22m\u001b[39m to `C:\\Users\\johnb\\.julia\\environments\\v1.11\\Project.toml`\n",
      "\u001b[32m\u001b[1m  No Changes\u001b[22m\u001b[39m to `C:\\Users\\johnb\\.julia\\environments\\v1.11\\Manifest.toml`\n"
     ]
    }
   ],
   "source": [
    "Pkg.add(\"StructuralCausalModels\")\n",
    "Pkg.add(\"DataFrames\")\n",
    "Pkg.add(\"GLM\")\n",
    "Pkg.add(\"StatsModels\")\n",
    "Pkg.add(\"Plots\")\n",
    "Pkg.add(\"StatsPlots\") \n",
    "Pkg.add(\"Printf\")\n",
    "Pkg.add(\"Random\")\n",
    "Pkg.add(\"CSV\")\n"
   ]
  },
  {
   "cell_type": "code",
   "execution_count": 5,
   "id": "64e69b24",
   "metadata": {},
   "outputs": [],
   "source": [
    "# Cargar los paquetes para la sesión\n",
    "using StructuralCausalModels, DataFrames, GLM, StatsModels, Plots, StatsPlots, Printf, Random, CSV"
   ]
  },
  {
   "cell_type": "code",
   "execution_count": 6,
   "id": "8047f0bb",
   "metadata": {},
   "outputs": [
    {
     "ename": "LoadError",
     "evalue": "LoadError: UndefVarError: `@dag_str` not defined in `Main`\nSuggestion: check for spelling errors or missing imports.\nin expression starting at In[6]:9",
     "output_type": "error",
     "traceback": [
      "LoadError: UndefVarError: `@dag_str` not defined in `Main`\nSuggestion: check for spelling errors or missing imports.\nin expression starting at In[6]:9",
      ""
     ]
    }
   ],
   "source": [
    "## 1.1 DAG y Simulación\n",
    "# Definimos el grafo donde U1 y U2 son no observados\n",
    "dag_original_str = \"dag {\n",
    "    U1 [unobserved]; U2 [unobserved]\n",
    "    U1 -> X; U1 -> Z\n",
    "    U2 -> Y; U2 -> Z\n",
    "    X -> Y;  Z -> Y\n",
    "}\"\n",
    "dag_original = dag\"\"\n",
    "draw(dag_original) \n",
    "\n"
   ]
  },
  {
   "cell_type": "code",
   "execution_count": null,
   "id": "6ae516dd",
   "metadata": {},
   "outputs": [],
   "source": [
    "# Simulación de datos para el DAG original\n",
    "Random.seed!(111)\n",
    "n_samples = 100000\n",
    "true_effect_original = 1.0\n",
    "\n",
    "U1 = randn(n_samples)\n",
    "U2 = randn(n_samples)\n",
    "Z  = 0.6 * U1 + 0.5 * U2 .+ randn(n_samples)\n",
    "X  = 0.8 * U1 .+ randn(n_samples)\n",
    "Y  = true_effect_original .* X + 0.4 .* Z + 0.9 .* U2 .+ randn(n_samples)\n",
    "\n",
    "df_original = DataFrame(X=X, Y=Y, Z=Z)"
   ]
  },
  {
   "cell_type": "code",
   "execution_count": null,
   "id": "9fd681bd",
   "metadata": {},
   "outputs": [],
   "source": [
    "## 1.2 Regresiones con y sin control por Z\n",
    "# Usamos `Y ~ 0 + ...` para un modelo sin intercepto\n",
    "model_sin_Z = lm(@formula(Y ~ 0 + X), df_original)\n",
    "model_con_Z = lm(@formula(Y ~ 0 + X + Z), df_original)\n",
    "\n",
    "println(\"\\n--- Regresión Y vs. X (Sin Control) ---\")\n",
    "println(model_sin_Z)\n",
    "println(\"\\n--- Regresión Y vs. X (Controlando por Z) ---\")\n",
    "println(model_con_Z)\n"
   ]
  },
  {
   "cell_type": "code",
   "execution_count": null,
   "id": "58656a2f",
   "metadata": {},
   "outputs": [],
   "source": [
    "## 1.3 Gráfico de Coeficientes vs. Efecto Verdadero\n",
    "# Extraer coeficientes e intervalos de confianza del 93%\n",
    "coef_sin_Z = coef(model_sin_Z)[1]\n",
    "conf_sin_Z = confint(model_sin_Z, 0.93)[1, :]\n",
    "\n",
    "coef_con_Z = coef(model_con_Z)[1]\n",
    "conf_con_Z = confint(model_con_Z, 0.93)[1, :]\n",
    "\n",
    "plot_data = DataFrame(\n",
    "    Model = [\"Y vs. X\", \"Y vs. X, Z\"],\n",
    "    estimate = [coef_sin_Z, coef_con_Z],\n",
    "    conf_low = [conf_sin_Z[1], conf_con_Z[1]],\n",
    "    conf_high = [conf_sin_Z[2], conf_con_Z[2]]\n",
    ")\n",
    "\n",
    "# Crear el gráfico\n",
    "@df plot_data bar(\n",
    "    :Model, :estimate, yerror=(:estimate .- :conf_low, :conf_high .- :estimate),\n",
    "    title=\"Estimación del Efecto de X en Y (Original)\",\n",
    "    ylabel=\"Coeficiente Estimado de X\",\n",
    "    legend=false,\n",
    "    fill=[\"skyblue\", \"salmon\"],\n",
    "    alpha=0.8\n",
    ")\n",
    "hline!([true_effect_original], linestyle=:dash, color=:red, label=\"Efecto Verdadero\")\n",
    "\n",
    "# Guardar el gráfico\n",
    "if !isdir(\"output\"); mkdir(\"output\"); end\n",
    "savefig(\"output/part3_coefficients_plot_Julia.png\")\n",
    "println(\"\\nGráfico exportado a 'output/part3_coefficients_plot_Julia.png'\\n\""
   ]
  },
  {
   "cell_type": "code",
   "execution_count": null,
   "id": "c3027a2e",
   "metadata": {},
   "outputs": [],
   "source": [
    "# --- 2. DAG Modificado con Controles Observables ---\n",
    "\n",
    "println(\"\\n\\n--- PARTE 3.2: DAG Modificado y Búsqueda de Controles ---\")\n",
    "\n",
    "## 2.1 Grafo y Simulación del DAG Modificado\n",
    "dag_modificado_str = \"dag{ U1->X; U1->Z; U2->Y; U2->Z; X->Y; Z->Y; Z->X }\"\n",
    "dag_modificado = dag\"\"\n",
    "# draw(dag_modificado) # Descomentar si tienes Graphviz\n",
    "\n",
    "# Simulación donde U1 y U2 son observables\n",
    "Random.seed!(456)\n",
    "true_effect_modificado = 1.0\n",
    "\n",
    "U1 = randn(n_samples)\n",
    "U2 = randn(n_samples)\n",
    "Z  = 1 .* U1 .+ 1 .* U2 .+ randn(n_samples)\n",
    "X  = 1 .* U1 .+ 1 .* Z .+ randn(n_samples)\n",
    "Y  = true_effect_modificado .* X .+ 1 .* Z .+ 1 .* U2 .+ randn(n_samples)\n",
    "\n",
    "df_modified = DataFrame(X=X, Y=Y, Z=Z, U1=U1, U2=U2)"
   ]
  },
  {
   "cell_type": "code",
   "execution_count": null,
   "id": "11eba77c",
   "metadata": {},
   "outputs": [],
   "source": [
    "## 2.2 Correr las 8 Regresiones\n",
    "formulas = [\n",
    "    \"None\"      => @formula(Y ~ 0 + X),\n",
    "    \"Z\"         => @formula(Y ~ 0 + X + Z),\n",
    "    \"U1\"        => @formula(Y ~ 0 + X + U1),\n",
    "    \"U2\"        => @formula(Y ~ 0 + X + U2),\n",
    "    \"Z, U1\"     => @formula(Y ~ 0 + X + Z + U1),\n",
    "    \"Z, U2\"     => @formula(Y ~ 0 + X + Z + U2),\n",
    "    \"U1, U2\"    => @formula(Y ~ 0 + X + U1 + U2),\n",
    "    \"Z, U1, U2\" => @formula(Y ~ 0 + X + Z + U1 + U2)\n",
    "]\n",
    "\n",
    "results_list = []\n",
    "for (controls, formula) in formulas\n",
    "    model = lm(formula, df_modified)\n",
    "    ct = coeftable(model)\n",
    "    # Encontrar la fila correspondiente a 'X'\n",
    "    x_row = findfirst(x -> x == \"X\", ct.rownms)\n",
    "    beta = ct.cols[1][x_row]\n",
    "    se = ct.cols[2][x_row]\n",
    "    push!(results_list, (Controls=controls, β=beta, SE=se))\n",
    "end\n",
    "results_df = DataFrame(results_list)\n"
   ]
  },
  {
   "cell_type": "code",
   "execution_count": null,
   "id": "089a8660",
   "metadata": {},
   "outputs": [],
   "source": [
    "## 2.3 Presentar y Exportar la Tabla de Resultados\n",
    "println(\"\\n--- Tabla de Resultados: Escenario Modificado ---\")\n",
    "@printf \"El efecto causal verdadero es: %.1f\\n\\n\" true_effect_modificado\n",
    "println(results_df)\n",
    "CSV.write(\"output/regression_results_Julia.txt\", results_df, delim='\\t')\n",
    "println(\"\\n✅ Tabla exportada a 'output/regression_results_Julia.txt'\\n\")"
   ]
  },
  {
   "cell_type": "markdown",
   "id": "df6eb998",
   "metadata": {},
   "source": [
    "# --- 3. Análisis Final y Conclusiones ---\n"
   ]
  },
  {
   "cell_type": "code",
   "execution_count": 3,
   "id": "d24045ca",
   "metadata": {},
   "outputs": [
    {
     "name": "stdout",
     "output_type": "stream",
     "text": [
      "--- 3.1 ¿Qué controles funcionan? ---\n"
     ]
    },
    {
     "ename": "LoadError",
     "evalue": "UndefVarError: `results_df` not defined in `Main`\nSuggestion: check for spelling errors or missing imports.",
     "output_type": "error",
     "traceback": [
      "UndefVarError: `results_df` not defined in `Main`\nSuggestion: check for spelling errors or missing imports.",
      "",
      "Stacktrace:",
      " [1] top-level scope",
      "\u001b[90m   @\u001b[39m \u001b[90m\u001b[4mIn[3]:4\u001b[24m\u001b[39m"
     ]
    }
   ],
   "source": [
    "## 3.1 ¿Qué controles funcionan?\n",
    "println(\"--- 3.1 ¿Qué controles funcionan? ---\")\n",
    "tolerance = 0.02\n",
    "good_controls_df = filter(row -> abs(row.β - true_effect_modificado) < tolerance, results_df)\n",
    "@printf \"Modelos que estiman el efecto con una tolerancia de +/- %.2f:\\n\" tolerance\n",
    "println(good_controls_df)"
   ]
  },
  {
   "cell_type": "code",
   "execution_count": null,
   "id": "4c101209",
   "metadata": {},
   "outputs": [],
   "source": [
    "## 3.2 ¿Cuál es el conjunto mínimo suficiente?\n",
    "println(\"\\n--- 3.2 ¿Cuál es el conjunto mínimo suficiente? ---\")\n",
    "good_sets = [Set(split(c, \", \")) for c in good_controls_df.Controls]\n",
    "\n",
    "minimal_sufficient_sets = []\n",
    "for current_set in good_sets\n",
    "    is_minimal = true\n",
    "    for other_set in good_sets\n",
    "        if current_set != other_set && issubset(other_set, current_set)\n",
    "            is_minimal = false\n",
    "            break\n",
    "        end\n",
    "    end\n",
    "    if is_minimal\n",
    "        push!(minimal_sufficient_sets, current_set)\n",
    "    end\n",
    "end\n",
    "\n",
    "println(\"El/Los conjunto(s) mínimo(s) suficiente(s) es/son:\")\n",
    "println(minimal_sufficient_sets)"
   ]
  },
  {
   "cell_type": "code",
   "execution_count": 2,
   "id": "d9643eeb",
   "metadata": {},
   "outputs": [
    {
     "name": "stdout",
     "output_type": "stream",
     "text": [
      "--- 3.3 Intuición Causal del Resultado ---\n",
      "\n",
      "La intuición de por qué los conjuntos de controles {Z, U1} y {Z, U2} proporcionan una estimación correcta se basa en su capacidad para satisfacer el criterio de la puerta trasera ('back-door criterion'). Este criterio exige que cerremos todos los caminos no causales que generan confusión entre el tratamiento X y el resultado Y.\n",
      "\n",
      "En el grafo causal modificado, existen tres caminos de puerta trasera que conectan a X con Y: (1) X <- Z -> Y, (2) X <- U1 -> Z -> Y, y (3) X <- Z <- U2 -> Y.\n",
      "\n",
      "Al utilizar el conjunto de controles {Z, U1}, logramos bloquear estos tres caminos. Sin embargo, surge una complicación: el nodo Z es un colisionador en la ruta U1 -> Z <- U2. Al controlar por Z, abrimos este camino, creando un nuevo camino de puerta trasera: X <- U1 -- U2 -> Y.\n",
      "\n",
      "Aquí radica la intuición clave: aunque controlar por Z abre este nuevo camino espurio, el conjunto {Z, U1} también incluye el control sobre U1. Este control adicional sobre U1 cierra inmediatamente el nuevo camino que acababa de abrirse. Por lo tanto, el conjunto {Z, U1} tiene éxito porque no solo cierra todos los caminos de puerta trasera originales, sino que también neutraliza el nuevo camino de sesgo que él mismo crea. La misma lógica se aplica de forma simétrica para el conjunto {Z, U2}.\n",
      "\n"
     ]
    }
   ],
   "source": [
    "## 3.3 Intuición Causal\n",
    "println(\"\"\"\n",
    "--- 3.3 Intuición Causal del Resultado ---\n",
    "\n",
    "La intuición de por qué los conjuntos de controles {Z, U1} y {Z, U2} proporcionan una estimación correcta se basa en su capacidad para satisfacer el criterio de la puerta trasera ('back-door criterion'). Este criterio exige que cerremos todos los caminos no causales que generan confusión entre el tratamiento X y el resultado Y.\n",
    "\n",
    "En el grafo causal modificado, existen tres caminos de puerta trasera que conectan a X con Y: (1) X <- Z -> Y, (2) X <- U1 -> Z -> Y, y (3) X <- Z <- U2 -> Y.\n",
    "\n",
    "Al utilizar el conjunto de controles {Z, U1}, logramos bloquear estos tres caminos. Sin embargo, surge una complicación: el nodo Z es un colisionador en la ruta U1 -> Z <- U2. Al controlar por Z, abrimos este camino, creando un nuevo camino de puerta trasera: X <- U1 -- U2 -> Y.\n",
    "\n",
    "Aquí radica la intuición clave: aunque controlar por Z abre este nuevo camino espurio, el conjunto {Z, U1} también incluye el control sobre U1. Este control adicional sobre U1 cierra inmediatamente el nuevo camino que acababa de abrirse. Por lo tanto, el conjunto {Z, U1} tiene éxito porque no solo cierra todos los caminos de puerta trasera originales, sino que también neutraliza el nuevo camino de sesgo que él mismo crea. La misma lógica se aplica de forma simétrica para el conjunto {Z, U2}.\n",
    "\"\"\")"
   ]
  }
 ],
 "metadata": {
  "kernelspec": {
   "display_name": "Julia 1.11.6",
   "language": "julia",
   "name": "julia-1.11"
  },
  "language_info": {
   "file_extension": ".jl",
   "mimetype": "application/julia",
   "name": "julia",
   "version": "1.11.6"
  }
 },
 "nbformat": 4,
 "nbformat_minor": 5
}
